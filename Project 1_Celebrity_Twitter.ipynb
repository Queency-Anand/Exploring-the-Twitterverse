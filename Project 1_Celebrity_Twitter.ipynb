{
 "cells": [
  {
   "cell_type": "code",
   "execution_count": 67,
   "metadata": {},
   "outputs": [],
   "source": [
    "import pandas as pd "
   ]
  },
  {
   "cell_type": "code",
   "execution_count": 68,
   "metadata": {},
   "outputs": [],
   "source": [
    "df1 = pd.read_csv('Top-1000-Celebrity-Twitter-Accounts.csv')\n"
   ]
  },
  {
   "cell_type": "code",
   "execution_count": 69,
   "metadata": {},
   "outputs": [
    {
     "data": {
      "text/html": [
       "<div>\n",
       "<style scoped>\n",
       "    .dataframe tbody tr th:only-of-type {\n",
       "        vertical-align: middle;\n",
       "    }\n",
       "\n",
       "    .dataframe tbody tr th {\n",
       "        vertical-align: top;\n",
       "    }\n",
       "\n",
       "    .dataframe thead th {\n",
       "        text-align: right;\n",
       "    }\n",
       "</style>\n",
       "<table border=\"1\" class=\"dataframe\">\n",
       "  <thead>\n",
       "    <tr style=\"text-align: right;\">\n",
       "      <th></th>\n",
       "      <th>username</th>\n",
       "      <th>twitter_id</th>\n",
       "      <th>domain</th>\n",
       "      <th>name</th>\n",
       "      <th>followers_count</th>\n",
       "      <th>tweet_count</th>\n",
       "    </tr>\n",
       "  </thead>\n",
       "  <tbody>\n",
       "    <tr>\n",
       "      <th>0</th>\n",
       "      <td>BarackObama</td>\n",
       "      <td>813286.0</td>\n",
       "      <td>obamabook.com</td>\n",
       "      <td>BarackObama</td>\n",
       "      <td>13444655.0</td>\n",
       "      <td>16467.0</td>\n",
       "    </tr>\n",
       "    <tr>\n",
       "      <th>1</th>\n",
       "      <td>justinbieber</td>\n",
       "      <td>27260086.0</td>\n",
       "      <td>smarturl.it</td>\n",
       "      <td>Justin Bieber</td>\n",
       "      <td>114357427.0</td>\n",
       "      <td>31399.0</td>\n",
       "    </tr>\n",
       "    <tr>\n",
       "      <th>2</th>\n",
       "      <td>katyperry</td>\n",
       "      <td>21447363.0</td>\n",
       "      <td>katyperry.com</td>\n",
       "      <td>KATY PERRY</td>\n",
       "      <td>108900656.0</td>\n",
       "      <td>11625.0</td>\n",
       "    </tr>\n",
       "    <tr>\n",
       "      <th>3</th>\n",
       "      <td>rihanna</td>\n",
       "      <td>79293791.0</td>\n",
       "      <td>rihannanow.com</td>\n",
       "      <td>Rihanna</td>\n",
       "      <td>106201663.0</td>\n",
       "      <td>10630.0</td>\n",
       "    </tr>\n",
       "    <tr>\n",
       "      <th>4</th>\n",
       "      <td>Cristiano</td>\n",
       "      <td>155659213.0</td>\n",
       "      <td>NaN</td>\n",
       "      <td>Cristiano Ronaldo</td>\n",
       "      <td>99274403.0</td>\n",
       "      <td>3780.0</td>\n",
       "    </tr>\n",
       "    <tr>\n",
       "      <th>...</th>\n",
       "      <td>...</td>\n",
       "      <td>...</td>\n",
       "      <td>...</td>\n",
       "      <td>...</td>\n",
       "      <td>...</td>\n",
       "      <td>...</td>\n",
       "    </tr>\n",
       "    <tr>\n",
       "      <th>982</th>\n",
       "      <td>MsLaurenLondon</td>\n",
       "      <td>NaN</td>\n",
       "      <td>NaN</td>\n",
       "      <td>Lauren London</td>\n",
       "      <td>NaN</td>\n",
       "      <td>NaN</td>\n",
       "    </tr>\n",
       "    <tr>\n",
       "      <th>983</th>\n",
       "      <td>wandaicardi</td>\n",
       "      <td>NaN</td>\n",
       "      <td>NaN</td>\n",
       "      <td>Wanda Icardi</td>\n",
       "      <td>NaN</td>\n",
       "      <td>NaN</td>\n",
       "    </tr>\n",
       "    <tr>\n",
       "      <th>984</th>\n",
       "      <td>S1dharthM</td>\n",
       "      <td>NaN</td>\n",
       "      <td>NaN</td>\n",
       "      <td>Sidharth Malhotra</td>\n",
       "      <td>NaN</td>\n",
       "      <td>NaN</td>\n",
       "    </tr>\n",
       "    <tr>\n",
       "      <th>985</th>\n",
       "      <td>superstarrajini</td>\n",
       "      <td>NaN</td>\n",
       "      <td>NaN</td>\n",
       "      <td>Rajinikanth</td>\n",
       "      <td>NaN</td>\n",
       "      <td>NaN</td>\n",
       "    </tr>\n",
       "    <tr>\n",
       "      <th>986</th>\n",
       "      <td>MikeVick</td>\n",
       "      <td>NaN</td>\n",
       "      <td>fanduel.com</td>\n",
       "      <td>Mike Vick</td>\n",
       "      <td>NaN</td>\n",
       "      <td>NaN</td>\n",
       "    </tr>\n",
       "  </tbody>\n",
       "</table>\n",
       "<p>987 rows × 6 columns</p>\n",
       "</div>"
      ],
      "text/plain": [
       "            username   twitter_id          domain               name  \\\n",
       "0        BarackObama     813286.0   obamabook.com        BarackObama   \n",
       "1       justinbieber   27260086.0     smarturl.it      Justin Bieber   \n",
       "2          katyperry   21447363.0   katyperry.com         KATY PERRY   \n",
       "3            rihanna   79293791.0  rihannanow.com            Rihanna   \n",
       "4          Cristiano  155659213.0             NaN  Cristiano Ronaldo   \n",
       "..               ...          ...             ...                ...   \n",
       "982   MsLaurenLondon          NaN             NaN      Lauren London   \n",
       "983      wandaicardi          NaN             NaN       Wanda Icardi   \n",
       "984        S1dharthM          NaN             NaN  Sidharth Malhotra   \n",
       "985  superstarrajini          NaN             NaN        Rajinikanth   \n",
       "986         MikeVick          NaN     fanduel.com          Mike Vick   \n",
       "\n",
       "     followers_count  tweet_count  \n",
       "0         13444655.0      16467.0  \n",
       "1        114357427.0      31399.0  \n",
       "2        108900656.0      11625.0  \n",
       "3        106201663.0      10630.0  \n",
       "4         99274403.0       3780.0  \n",
       "..               ...          ...  \n",
       "982              NaN          NaN  \n",
       "983              NaN          NaN  \n",
       "984              NaN          NaN  \n",
       "985              NaN          NaN  \n",
       "986              NaN          NaN  \n",
       "\n",
       "[987 rows x 6 columns]"
      ]
     },
     "execution_count": 69,
     "metadata": {},
     "output_type": "execute_result"
    }
   ],
   "source": [
    "df1"
   ]
  },
  {
   "cell_type": "code",
   "execution_count": 70,
   "metadata": {},
   "outputs": [],
   "source": [
    "csv_file_path = 'twitter-celebrity-embed-data/twitter-celebrity-embed-data.csv'\n",
    "\n",
    "# Read the CSV file into a DataFrame\n",
    "df = pd.read_csv(csv_file_path)"
   ]
  },
  {
   "cell_type": "code",
   "execution_count": 71,
   "metadata": {},
   "outputs": [
    {
     "data": {
      "text/html": [
       "<div>\n",
       "<style scoped>\n",
       "    .dataframe tbody tr th:only-of-type {\n",
       "        vertical-align: middle;\n",
       "    }\n",
       "\n",
       "    .dataframe tbody tr th {\n",
       "        vertical-align: top;\n",
       "    }\n",
       "\n",
       "    .dataframe thead th {\n",
       "        text-align: right;\n",
       "    }\n",
       "</style>\n",
       "<table border=\"1\" class=\"dataframe\">\n",
       "  <thead>\n",
       "    <tr style=\"text-align: right;\">\n",
       "      <th></th>\n",
       "      <th>3username</th>\n",
       "      <th>v1</th>\n",
       "      <th>v2</th>\n",
       "      <th>v3</th>\n",
       "      <th>v4</th>\n",
       "      <th>v5</th>\n",
       "      <th>v6</th>\n",
       "      <th>v7</th>\n",
       "      <th>v8</th>\n",
       "      <th>v9</th>\n",
       "      <th>...</th>\n",
       "      <th>v375</th>\n",
       "      <th>v376</th>\n",
       "      <th>v377</th>\n",
       "      <th>v378</th>\n",
       "      <th>v379</th>\n",
       "      <th>v380</th>\n",
       "      <th>v381</th>\n",
       "      <th>v382</th>\n",
       "      <th>v383</th>\n",
       "      <th>v384</th>\n",
       "    </tr>\n",
       "  </thead>\n",
       "  <tbody>\n",
       "    <tr>\n",
       "      <th>0</th>\n",
       "      <td>10Ronaldinho</td>\n",
       "      <td>0.023616</td>\n",
       "      <td>0.118616</td>\n",
       "      <td>0.014339</td>\n",
       "      <td>-0.034199</td>\n",
       "      <td>0.010017</td>\n",
       "      <td>0.057115</td>\n",
       "      <td>0.331274</td>\n",
       "      <td>0.090503</td>\n",
       "      <td>-0.000851</td>\n",
       "      <td>...</td>\n",
       "      <td>0.071095</td>\n",
       "      <td>-0.070828</td>\n",
       "      <td>0.007352</td>\n",
       "      <td>0.028034</td>\n",
       "      <td>-0.026129</td>\n",
       "      <td>0.100554</td>\n",
       "      <td>0.189953</td>\n",
       "      <td>-0.043720</td>\n",
       "      <td>-0.193321</td>\n",
       "      <td>0.099497</td>\n",
       "    </tr>\n",
       "    <tr>\n",
       "      <th>1</th>\n",
       "      <td>10neto</td>\n",
       "      <td>0.029652</td>\n",
       "      <td>0.052678</td>\n",
       "      <td>-0.005127</td>\n",
       "      <td>-0.075856</td>\n",
       "      <td>0.032429</td>\n",
       "      <td>-0.011980</td>\n",
       "      <td>0.207212</td>\n",
       "      <td>0.069710</td>\n",
       "      <td>0.065515</td>\n",
       "      <td>...</td>\n",
       "      <td>0.145715</td>\n",
       "      <td>-0.117165</td>\n",
       "      <td>-0.045886</td>\n",
       "      <td>0.025788</td>\n",
       "      <td>-0.145572</td>\n",
       "      <td>0.041897</td>\n",
       "      <td>0.143075</td>\n",
       "      <td>-0.016154</td>\n",
       "      <td>-0.047858</td>\n",
       "      <td>0.043745</td>\n",
       "    </tr>\n",
       "    <tr>\n",
       "      <th>2</th>\n",
       "      <td>143redangel</td>\n",
       "      <td>-0.031178</td>\n",
       "      <td>0.114921</td>\n",
       "      <td>0.099470</td>\n",
       "      <td>0.088868</td>\n",
       "      <td>-0.071421</td>\n",
       "      <td>-0.020963</td>\n",
       "      <td>0.361079</td>\n",
       "      <td>0.038373</td>\n",
       "      <td>-0.041363</td>\n",
       "      <td>...</td>\n",
       "      <td>-0.010612</td>\n",
       "      <td>-0.096119</td>\n",
       "      <td>0.068299</td>\n",
       "      <td>0.055840</td>\n",
       "      <td>-0.066096</td>\n",
       "      <td>0.125540</td>\n",
       "      <td>0.303755</td>\n",
       "      <td>-0.004833</td>\n",
       "      <td>-0.156932</td>\n",
       "      <td>0.093329</td>\n",
       "    </tr>\n",
       "    <tr>\n",
       "      <th>3</th>\n",
       "      <td>1LoganHenderson</td>\n",
       "      <td>0.012846</td>\n",
       "      <td>-0.042209</td>\n",
       "      <td>0.112719</td>\n",
       "      <td>-0.047077</td>\n",
       "      <td>-0.026054</td>\n",
       "      <td>0.013015</td>\n",
       "      <td>0.295199</td>\n",
       "      <td>0.050563</td>\n",
       "      <td>-0.068884</td>\n",
       "      <td>...</td>\n",
       "      <td>0.209641</td>\n",
       "      <td>-0.126021</td>\n",
       "      <td>-0.030515</td>\n",
       "      <td>0.017217</td>\n",
       "      <td>-0.179970</td>\n",
       "      <td>0.077504</td>\n",
       "      <td>0.281996</td>\n",
       "      <td>-0.022632</td>\n",
       "      <td>-0.183313</td>\n",
       "      <td>0.040052</td>\n",
       "    </tr>\n",
       "    <tr>\n",
       "      <th>4</th>\n",
       "      <td>1victorvaldes</td>\n",
       "      <td>0.079939</td>\n",
       "      <td>0.163188</td>\n",
       "      <td>-0.125588</td>\n",
       "      <td>-0.068917</td>\n",
       "      <td>-0.018846</td>\n",
       "      <td>-0.048813</td>\n",
       "      <td>0.030394</td>\n",
       "      <td>0.170860</td>\n",
       "      <td>0.001996</td>\n",
       "      <td>...</td>\n",
       "      <td>-0.193887</td>\n",
       "      <td>-0.065694</td>\n",
       "      <td>-0.120430</td>\n",
       "      <td>-0.182980</td>\n",
       "      <td>0.049742</td>\n",
       "      <td>0.118756</td>\n",
       "      <td>0.011009</td>\n",
       "      <td>-0.214712</td>\n",
       "      <td>0.091766</td>\n",
       "      <td>0.106519</td>\n",
       "    </tr>\n",
       "    <tr>\n",
       "      <th>...</th>\n",
       "      <td>...</td>\n",
       "      <td>...</td>\n",
       "      <td>...</td>\n",
       "      <td>...</td>\n",
       "      <td>...</td>\n",
       "      <td>...</td>\n",
       "      <td>...</td>\n",
       "      <td>...</td>\n",
       "      <td>...</td>\n",
       "      <td>...</td>\n",
       "      <td>...</td>\n",
       "      <td>...</td>\n",
       "      <td>...</td>\n",
       "      <td>...</td>\n",
       "      <td>...</td>\n",
       "      <td>...</td>\n",
       "      <td>...</td>\n",
       "      <td>...</td>\n",
       "      <td>...</td>\n",
       "      <td>...</td>\n",
       "      <td>...</td>\n",
       "    </tr>\n",
       "    <tr>\n",
       "      <th>911</th>\n",
       "      <td>yilmazerdogan</td>\n",
       "      <td>0.053644</td>\n",
       "      <td>0.040007</td>\n",
       "      <td>-0.040182</td>\n",
       "      <td>-0.018761</td>\n",
       "      <td>0.037404</td>\n",
       "      <td>0.041269</td>\n",
       "      <td>0.162235</td>\n",
       "      <td>-0.029313</td>\n",
       "      <td>0.066075</td>\n",
       "      <td>...</td>\n",
       "      <td>0.123731</td>\n",
       "      <td>-0.061978</td>\n",
       "      <td>0.002017</td>\n",
       "      <td>0.070911</td>\n",
       "      <td>-0.101091</td>\n",
       "      <td>0.073545</td>\n",
       "      <td>0.190493</td>\n",
       "      <td>-0.027500</td>\n",
       "      <td>-0.113203</td>\n",
       "      <td>0.031238</td>\n",
       "    </tr>\n",
       "    <tr>\n",
       "      <th>912</th>\n",
       "      <td>yokoono</td>\n",
       "      <td>0.087583</td>\n",
       "      <td>0.046551</td>\n",
       "      <td>0.049212</td>\n",
       "      <td>0.069303</td>\n",
       "      <td>0.055844</td>\n",
       "      <td>0.045825</td>\n",
       "      <td>0.106262</td>\n",
       "      <td>-0.073860</td>\n",
       "      <td>0.084315</td>\n",
       "      <td>...</td>\n",
       "      <td>0.145770</td>\n",
       "      <td>-0.000552</td>\n",
       "      <td>0.007204</td>\n",
       "      <td>0.138543</td>\n",
       "      <td>-0.100276</td>\n",
       "      <td>0.092852</td>\n",
       "      <td>0.217772</td>\n",
       "      <td>0.007464</td>\n",
       "      <td>-0.134466</td>\n",
       "      <td>0.017464</td>\n",
       "    </tr>\n",
       "    <tr>\n",
       "      <th>913</th>\n",
       "      <td>zairana</td>\n",
       "      <td>0.006701</td>\n",
       "      <td>0.075260</td>\n",
       "      <td>0.065837</td>\n",
       "      <td>0.099341</td>\n",
       "      <td>-0.042550</td>\n",
       "      <td>-0.015488</td>\n",
       "      <td>0.316673</td>\n",
       "      <td>-0.021330</td>\n",
       "      <td>0.004560</td>\n",
       "      <td>...</td>\n",
       "      <td>0.037175</td>\n",
       "      <td>-0.126194</td>\n",
       "      <td>0.041496</td>\n",
       "      <td>0.071142</td>\n",
       "      <td>-0.104809</td>\n",
       "      <td>0.085714</td>\n",
       "      <td>0.214370</td>\n",
       "      <td>-0.005325</td>\n",
       "      <td>-0.074727</td>\n",
       "      <td>0.072801</td>\n",
       "    </tr>\n",
       "    <tr>\n",
       "      <th>914</th>\n",
       "      <td>zaynmalik</td>\n",
       "      <td>0.004340</td>\n",
       "      <td>-0.011574</td>\n",
       "      <td>0.116398</td>\n",
       "      <td>-0.035385</td>\n",
       "      <td>-0.066993</td>\n",
       "      <td>-0.023626</td>\n",
       "      <td>0.401810</td>\n",
       "      <td>0.074949</td>\n",
       "      <td>-0.079950</td>\n",
       "      <td>...</td>\n",
       "      <td>0.122852</td>\n",
       "      <td>-0.186291</td>\n",
       "      <td>-0.004107</td>\n",
       "      <td>0.069027</td>\n",
       "      <td>-0.140385</td>\n",
       "      <td>0.053369</td>\n",
       "      <td>0.285909</td>\n",
       "      <td>0.015129</td>\n",
       "      <td>-0.096934</td>\n",
       "      <td>0.076344</td>\n",
       "    </tr>\n",
       "    <tr>\n",
       "      <th>915</th>\n",
       "      <td>zoetheband</td>\n",
       "      <td>0.040432</td>\n",
       "      <td>-0.028396</td>\n",
       "      <td>0.044837</td>\n",
       "      <td>-0.050009</td>\n",
       "      <td>0.046955</td>\n",
       "      <td>0.055727</td>\n",
       "      <td>0.087064</td>\n",
       "      <td>0.022585</td>\n",
       "      <td>0.042188</td>\n",
       "      <td>...</td>\n",
       "      <td>0.184139</td>\n",
       "      <td>-0.072384</td>\n",
       "      <td>-0.024996</td>\n",
       "      <td>0.030620</td>\n",
       "      <td>-0.102233</td>\n",
       "      <td>0.075816</td>\n",
       "      <td>0.155546</td>\n",
       "      <td>-0.039803</td>\n",
       "      <td>-0.170176</td>\n",
       "      <td>0.059639</td>\n",
       "    </tr>\n",
       "  </tbody>\n",
       "</table>\n",
       "<p>916 rows × 385 columns</p>\n",
       "</div>"
      ],
      "text/plain": [
       "           3username        v1        v2        v3        v4        v5  \\\n",
       "0       10Ronaldinho  0.023616  0.118616  0.014339 -0.034199  0.010017   \n",
       "1             10neto  0.029652  0.052678 -0.005127 -0.075856  0.032429   \n",
       "2        143redangel -0.031178  0.114921  0.099470  0.088868 -0.071421   \n",
       "3    1LoganHenderson  0.012846 -0.042209  0.112719 -0.047077 -0.026054   \n",
       "4      1victorvaldes  0.079939  0.163188 -0.125588 -0.068917 -0.018846   \n",
       "..               ...       ...       ...       ...       ...       ...   \n",
       "911    yilmazerdogan  0.053644  0.040007 -0.040182 -0.018761  0.037404   \n",
       "912          yokoono  0.087583  0.046551  0.049212  0.069303  0.055844   \n",
       "913          zairana  0.006701  0.075260  0.065837  0.099341 -0.042550   \n",
       "914        zaynmalik  0.004340 -0.011574  0.116398 -0.035385 -0.066993   \n",
       "915       zoetheband  0.040432 -0.028396  0.044837 -0.050009  0.046955   \n",
       "\n",
       "           v6        v7        v8        v9  ...      v375      v376  \\\n",
       "0    0.057115  0.331274  0.090503 -0.000851  ...  0.071095 -0.070828   \n",
       "1   -0.011980  0.207212  0.069710  0.065515  ...  0.145715 -0.117165   \n",
       "2   -0.020963  0.361079  0.038373 -0.041363  ... -0.010612 -0.096119   \n",
       "3    0.013015  0.295199  0.050563 -0.068884  ...  0.209641 -0.126021   \n",
       "4   -0.048813  0.030394  0.170860  0.001996  ... -0.193887 -0.065694   \n",
       "..        ...       ...       ...       ...  ...       ...       ...   \n",
       "911  0.041269  0.162235 -0.029313  0.066075  ...  0.123731 -0.061978   \n",
       "912  0.045825  0.106262 -0.073860  0.084315  ...  0.145770 -0.000552   \n",
       "913 -0.015488  0.316673 -0.021330  0.004560  ...  0.037175 -0.126194   \n",
       "914 -0.023626  0.401810  0.074949 -0.079950  ...  0.122852 -0.186291   \n",
       "915  0.055727  0.087064  0.022585  0.042188  ...  0.184139 -0.072384   \n",
       "\n",
       "         v377      v378      v379      v380      v381      v382      v383  \\\n",
       "0    0.007352  0.028034 -0.026129  0.100554  0.189953 -0.043720 -0.193321   \n",
       "1   -0.045886  0.025788 -0.145572  0.041897  0.143075 -0.016154 -0.047858   \n",
       "2    0.068299  0.055840 -0.066096  0.125540  0.303755 -0.004833 -0.156932   \n",
       "3   -0.030515  0.017217 -0.179970  0.077504  0.281996 -0.022632 -0.183313   \n",
       "4   -0.120430 -0.182980  0.049742  0.118756  0.011009 -0.214712  0.091766   \n",
       "..        ...       ...       ...       ...       ...       ...       ...   \n",
       "911  0.002017  0.070911 -0.101091  0.073545  0.190493 -0.027500 -0.113203   \n",
       "912  0.007204  0.138543 -0.100276  0.092852  0.217772  0.007464 -0.134466   \n",
       "913  0.041496  0.071142 -0.104809  0.085714  0.214370 -0.005325 -0.074727   \n",
       "914 -0.004107  0.069027 -0.140385  0.053369  0.285909  0.015129 -0.096934   \n",
       "915 -0.024996  0.030620 -0.102233  0.075816  0.155546 -0.039803 -0.170176   \n",
       "\n",
       "         v384  \n",
       "0    0.099497  \n",
       "1    0.043745  \n",
       "2    0.093329  \n",
       "3    0.040052  \n",
       "4    0.106519  \n",
       "..        ...  \n",
       "911  0.031238  \n",
       "912  0.017464  \n",
       "913  0.072801  \n",
       "914  0.076344  \n",
       "915  0.059639  \n",
       "\n",
       "[916 rows x 385 columns]"
      ]
     },
     "execution_count": 71,
     "metadata": {},
     "output_type": "execute_result"
    }
   ],
   "source": [
    "df "
   ]
  },
  {
   "cell_type": "code",
   "execution_count": 72,
   "metadata": {},
   "outputs": [],
   "source": [
    "import os\n",
    "import pandas as pd\n",
    "import re\n",
    "from nltk.corpus import stopwords\n",
    "from nltk.tokenize import word_tokenize\n",
    "from nltk.stem import WordNetLemmatizer\n",
    "\n",
    "\n"
   ]
  },
  {
   "cell_type": "code",
   "execution_count": 73,
   "metadata": {},
   "outputs": [
    {
     "name": "stderr",
     "output_type": "stream",
     "text": [
      "[nltk_data] Downloading package wordnet to /Users/qanand/nltk_data...\n",
      "[nltk_data]   Package wordnet is already up-to-date!\n"
     ]
    }
   ],
   "source": [
    "\n",
    "# def preprocess_tweet(tweet)->str:\n",
    "#     # Remove URLs\n",
    "#     tweet = re.sub(r\"http\\S+|www\\S+|https\\S+\", \"\", tweet, flags=re.MULTILINE)\n",
    "    \n",
    "#     # Remove special characters and punctuation\n",
    "#     tweet = re.sub(r'\\W', ' ', tweet)\n",
    "    \n",
    "#     # Tokenization\n",
    "#     tokens = word_tokenize(tweet)\n",
    "    \n",
    "#     # Lowercasing\n",
    "#     tokens = [word.lower() for word in tokens]\n",
    "    \n",
    "#     # Remove stopwords\n",
    "#     stop_words = set(stopwords.words('english'))\n",
    "#     tokens = [word for word in tokens if word.isalnum() and word not in stop_words]\n",
    "\n",
    "#      # Join tokens back into a single string\n",
    "#     cleaned_tweet = \" \".join(tokens)\n",
    "    \n",
    "#     # Define regular expression patterns to match emojis, non-breaking spaces, and newline characters\n",
    "#     emoji_pattern = re.compile(r'[\\U0001F300-\\U0001F5FF\\U0001F600-\\U0001F64F\\U0001F680-\\U0001F6FF\\u2600-\\u26FF\\u2700-\\u27BF]+')\n",
    "#     space_pattern = re.compile(r'[\\xc2\\xa0]')\n",
    "#     newline_pattern = re.compile(r'\\n')\n",
    "\n",
    "#     # Replace emojis, non-breaking spaces, and newline characters with empty strings\n",
    "#     cleaned_tweet = emoji_pattern.sub('', cleaned_tweet)\n",
    "#     cleaned_tweet = space_pattern.sub('', cleaned_tweet)\n",
    "#     cleaned_tweet = newline_pattern.sub('', cleaned_tweet)\n",
    "\n",
    "    \n",
    "#     return cleaned_tweet\n",
    "\n",
    "import re\n",
    "import nltk\n",
    "nltk.download('wordnet')\n",
    "\n",
    "from nltk.tokenize import word_tokenize\n",
    "from nltk.corpus import stopwords\n",
    "from nltk.stem import WordNetLemmatizer\n",
    "\n",
    "def preprocess_tweet(tweet: str) -> str:\n",
    "\n",
    "    # Remove initial 'b' character and single apostrophe\n",
    "    tweet = re.sub(r\"^b'|^b\\\"|'$|\\\"$\", \"\", tweet)\n",
    "    \n",
    "    # Remove URLs\n",
    "    tweet = re.sub(r\"http\\S+|www\\S+|https\\S+\", \"\", tweet, flags=re.MULTILINE)\n",
    "    \n",
    "    # Define regular expression patterns to match emojis, non-breaking spaces, and newline characters\n",
    "    emoji_pattern = re.compile(r'[\\U0001F300-\\U0001F5FF\\U0001F600-\\U0001F64F\\U0001F680-\\U0001F6FF\\u2600-\\u26FF\\u2700-\\u27BF]+')\n",
    "    # space_pattern = re.compile(r'[\\xc2\\xa0]')\n",
    "    newline_pattern = re.compile(r'\\n')\n",
    "\n",
    "    # Remove emojis, non-breaking spaces, and newline characters\n",
    "    tweet = emoji_pattern.sub('', tweet)\n",
    "    # tweet = space_pattern.sub('', tweet)\n",
    "    tweet = newline_pattern.sub('', tweet)\n",
    "    \n",
    "    # Tokenization, lowercasing, and removing stopwords\n",
    "    tokens = word_tokenize(tweet)\n",
    "\n",
    "    stop_words = set(stopwords.words('english'))\n",
    "    tokens = [word.lower() for word in tokens if word.isalnum() and word.lower() not in stop_words]\n",
    "\n",
    "    # Lemmatization\n",
    "    lemmatizer = WordNetLemmatizer()\n",
    "    tokens = [lemmatizer.lemmatize(word) for word in tokens]\n",
    "    \n",
    "    # Join tokens back into a single string\n",
    "    cleaned_tweet = \" \".join(tokens)\n",
    "\n",
    "    return cleaned_tweet\n",
    "\n"
   ]
  },
  {
   "cell_type": "markdown",
   "metadata": {},
   "source": [
    "Function for cleaning of the data."
   ]
  },
  {
   "cell_type": "code",
   "execution_count": 74,
   "metadata": {},
   "outputs": [],
   "source": [
    "tweet_1 = \"b'Strawberry \\nmoon tonight \\xf0\\x9f\\x8c\\x95 #magical'\""
   ]
  },
  {
   "cell_type": "code",
   "execution_count": 75,
   "metadata": {},
   "outputs": [
    {
     "name": "stdout",
     "output_type": "stream",
     "text": [
      "strawberry moon tonight magical\n"
     ]
    }
   ],
   "source": [
    "print(preprocess_tweet(tweet_1))\n",
    "\n"
   ]
  },
  {
   "cell_type": "code",
   "execution_count": 76,
   "metadata": {},
   "outputs": [],
   "source": [
    "input_dir_path = 'twitter-celebrity-tweets-data/twitter-celebrity-tweets-data'\n",
    "output_dir_path = 'cleaned_tweets'\n",
    "\n",
    "# List all files in the directory\n",
    "files = os.listdir(input_dir_path)\n",
    "\n",
    "# Iterate through each CSV file\n",
    "for file in files:\n",
    "    if file.endswith(\".csv\"):\n",
    "        file_path = os.path.join(input_dir_path, file)\n",
    "        \n",
    "        # Read the CSV file into a DataFrame\n",
    "        df = pd.read_csv(file_path)\n",
    "        \n",
    "        # Clean the tweets column\n",
    "        df['cleaned_tweets'] = df['tweet'].apply(preprocess_tweet)\n",
    "        \n",
    "        # Save the cleaned DataFrame to a new CSV file or perform further analysis\n",
    "        cleaned_file_path = os.path.join(output_dir_path, f\"cleaned_{file}\")\n",
    "        df.to_csv(cleaned_file_path, index=False)\n"
   ]
  },
  {
   "cell_type": "markdown",
   "metadata": {},
   "source": [
    "Preprocessing of the data."
   ]
  },
  {
   "cell_type": "code",
   "execution_count": 77,
   "metadata": {},
   "outputs": [
    {
     "data": {
      "text/html": [
       "<div>\n",
       "<style scoped>\n",
       "    .dataframe tbody tr th:only-of-type {\n",
       "        vertical-align: middle;\n",
       "    }\n",
       "\n",
       "    .dataframe tbody tr th {\n",
       "        vertical-align: top;\n",
       "    }\n",
       "\n",
       "    .dataframe thead th {\n",
       "        text-align: right;\n",
       "    }\n",
       "</style>\n",
       "<table border=\"1\" class=\"dataframe\">\n",
       "  <thead>\n",
       "    <tr style=\"text-align: right;\">\n",
       "      <th></th>\n",
       "      <th>twitter_id</th>\n",
       "      <th>date</th>\n",
       "      <th>tweet</th>\n",
       "      <th>cleaned_tweets</th>\n",
       "    </tr>\n",
       "  </thead>\n",
       "  <tbody>\n",
       "    <tr>\n",
       "      <th>0</th>\n",
       "      <td>1546289475902312448</td>\n",
       "      <td>2022-07-11 00:25:14+00:00</td>\n",
       "      <td>b'@irabrianmiller Congrats!'</td>\n",
       "      <td>irabrianmiller congrats</td>\n",
       "    </tr>\n",
       "    <tr>\n",
       "      <th>1</th>\n",
       "      <td>1546258310503944193</td>\n",
       "      <td>2022-07-10 22:21:23+00:00</td>\n",
       "      <td>b'Have a great show @thiswildlife\\n\\nhttps://t...</td>\n",
       "      <td>great show</td>\n",
       "    </tr>\n",
       "    <tr>\n",
       "      <th>2</th>\n",
       "      <td>1546231265191272448</td>\n",
       "      <td>2022-07-10 20:33:55+00:00</td>\n",
       "      <td>b'@blink182italia Wait was it really number one?'</td>\n",
       "      <td>blink182italia wait really number one</td>\n",
       "    </tr>\n",
       "    <tr>\n",
       "      <th>3</th>\n",
       "      <td>1546166601929502722</td>\n",
       "      <td>2022-07-10 16:16:58+00:00</td>\n",
       "      <td>b'What\\xe2\\x80\\x99s up now @hwinkler4real http...</td>\n",
       "      <td>hwinkler4real</td>\n",
       "    </tr>\n",
       "    <tr>\n",
       "      <th>4</th>\n",
       "      <td>1544814292439945216</td>\n",
       "      <td>2022-07-06 22:43:23+00:00</td>\n",
       "      <td>b'Hi yes three tickets for minion rise of gru ...</td>\n",
       "      <td>hi yes three ticket minion rise gru please</td>\n",
       "    </tr>\n",
       "    <tr>\n",
       "      <th>...</th>\n",
       "      <td>...</td>\n",
       "      <td>...</td>\n",
       "      <td>...</td>\n",
       "      <td>...</td>\n",
       "    </tr>\n",
       "    <tr>\n",
       "      <th>3208</th>\n",
       "      <td>1314619001</td>\n",
       "      <td>2009-03-12 04:52:31+00:00</td>\n",
       "      <td>b\"on a serious note, i want to give a shout ou...</td>\n",
       "      <td>serious note want give shout men woman uniform...</td>\n",
       "    </tr>\n",
       "    <tr>\n",
       "      <th>3209</th>\n",
       "      <td>1311796781</td>\n",
       "      <td>2009-03-11 18:02:15+00:00</td>\n",
       "      <td>b'Lyrically I swear I won\\'t use the poetic de...</td>\n",
       "      <td>lyrically swear use poetic device said anymore...</td>\n",
       "    </tr>\n",
       "    <tr>\n",
       "      <th>3210</th>\n",
       "      <td>1265688365</td>\n",
       "      <td>2009-03-01 15:56:14+00:00</td>\n",
       "      <td>b\"Twitter=text messaging the world. Hello worl...</td>\n",
       "      <td>messaging world hello world feel like gon na b...</td>\n",
       "    </tr>\n",
       "    <tr>\n",
       "      <th>3211</th>\n",
       "      <td>1256998578</td>\n",
       "      <td>2009-02-27 05:28:24+00:00</td>\n",
       "      <td>b'Today in the studio. Me and Trav in LA, and ...</td>\n",
       "      <td>today studio trav la td sd played bass sang bi...</td>\n",
       "    </tr>\n",
       "    <tr>\n",
       "      <th>3212</th>\n",
       "      <td>1256925047</td>\n",
       "      <td>2009-02-27 04:59:10+00:00</td>\n",
       "      <td>b'For my first post I want to talk about blood...</td>\n",
       "      <td>first post want talk blood orange cake delicio...</td>\n",
       "    </tr>\n",
       "  </tbody>\n",
       "</table>\n",
       "<p>3213 rows × 4 columns</p>\n",
       "</div>"
      ],
      "text/plain": [
       "               twitter_id                       date  \\\n",
       "0     1546289475902312448  2022-07-11 00:25:14+00:00   \n",
       "1     1546258310503944193  2022-07-10 22:21:23+00:00   \n",
       "2     1546231265191272448  2022-07-10 20:33:55+00:00   \n",
       "3     1546166601929502722  2022-07-10 16:16:58+00:00   \n",
       "4     1544814292439945216  2022-07-06 22:43:23+00:00   \n",
       "...                   ...                        ...   \n",
       "3208           1314619001  2009-03-12 04:52:31+00:00   \n",
       "3209           1311796781  2009-03-11 18:02:15+00:00   \n",
       "3210           1265688365  2009-03-01 15:56:14+00:00   \n",
       "3211           1256998578  2009-02-27 05:28:24+00:00   \n",
       "3212           1256925047  2009-02-27 04:59:10+00:00   \n",
       "\n",
       "                                                  tweet  \\\n",
       "0                          b'@irabrianmiller Congrats!'   \n",
       "1     b'Have a great show @thiswildlife\\n\\nhttps://t...   \n",
       "2     b'@blink182italia Wait was it really number one?'   \n",
       "3     b'What\\xe2\\x80\\x99s up now @hwinkler4real http...   \n",
       "4     b'Hi yes three tickets for minion rise of gru ...   \n",
       "...                                                 ...   \n",
       "3208  b\"on a serious note, i want to give a shout ou...   \n",
       "3209  b'Lyrically I swear I won\\'t use the poetic de...   \n",
       "3210  b\"Twitter=text messaging the world. Hello worl...   \n",
       "3211  b'Today in the studio. Me and Trav in LA, and ...   \n",
       "3212  b'For my first post I want to talk about blood...   \n",
       "\n",
       "                                         cleaned_tweets  \n",
       "0                               irabrianmiller congrats  \n",
       "1                                            great show  \n",
       "2                 blink182italia wait really number one  \n",
       "3                                         hwinkler4real  \n",
       "4            hi yes three ticket minion rise gru please  \n",
       "...                                                 ...  \n",
       "3208  serious note want give shout men woman uniform...  \n",
       "3209  lyrically swear use poetic device said anymore...  \n",
       "3210  messaging world hello world feel like gon na b...  \n",
       "3211  today studio trav la td sd played bass sang bi...  \n",
       "3212  first post want talk blood orange cake delicio...  \n",
       "\n",
       "[3213 rows x 4 columns]"
      ]
     },
     "execution_count": 77,
     "metadata": {},
     "output_type": "execute_result"
    }
   ],
   "source": [
    "df"
   ]
  },
  {
   "cell_type": "code",
   "execution_count": 78,
   "metadata": {},
   "outputs": [
    {
     "name": "stdout",
     "output_type": "stream",
     "text": [
      "Tweets containing keywords found in file cleaned_iamsrk.csv:\n",
      "thank u next film trying nail polish\n",
      "--------------------------------------------------\n",
      "Tweets containing keywords found in file cleaned_simonpegg.csv:\n",
      "think going go camel toe libtechnologies xc2 total ripper cover nail polish\n",
      "--------------------------------------------------\n",
      "Tweets containing keywords found in file cleaned_jimmyfallon.csv:\n",
      "fun pumpkin carving fact get sharpie permanent marker pumpkin rubbing alcohol nail polish remover\n",
      "--------------------------------------------------\n",
      "Tweets containing keywords found in file cleaned_shaymitch.csv:\n",
      "building inspired nail polish change pastel shaycationhongkong\n",
      "--------------------------------------------------\n",
      "Tweets containing keywords found in file cleaned_mynameisrossa.csv:\n",
      "makasiii kirimannya semua fav aku dari mulai parfum nail polish mascara dan\n",
      "--------------------------------------------------\n",
      "Tweets containing keywords found in file cleaned_ochocinco.csv:\n",
      "wear black nail polish\n",
      "--------------------------------------------------\n",
      "Tweets containing keywords found in file cleaned_AnnaKendrick47.csv:\n",
      "also picking last blue nail polish get event give 5 min get kicked\n",
      "--------------------------------------------------\n",
      "Tweets containing keywords found in file cleaned_notch.csv:\n",
      "techconnectify started using nail polish mine\n",
      "--------------------------------------------------\n",
      "Tweets containing keywords found in file cleaned_Tip.csv:\n",
      "baby bos heiressdharris already bringing bankroll theroyalcollection nail polish made princess princess get\n",
      "--------------------------------------------------\n",
      "Tweets containing keywords found in file cleaned_kourtneykardash.csv:\n",
      "happy national nail polish day take quiz see color best\n",
      "--------------------------------------------------\n",
      "Tweets containing keywords found in file cleaned_Lord_Sugar.csv:\n",
      "rt completely lift tired gel nail polish 15 minute stylfile gel nail polish remover kit\n",
      "--------------------------------------------------\n",
      "rt shape future home nailcare stylfile gel nail polish remover feelunqiue\n",
      "--------------------------------------------------\n",
      "Tweets containing keywords found in file cleaned_bigtimerush.csv:\n",
      "rt ohnoxitsalyssa bigtimerush would wear btr nail polish bigtimesummertour\n",
      "--------------------------------------------------\n",
      "Tweets containing keywords found in file cleaned_lenadunham.csv:\n",
      "emilygould happy report people comment picture book love suck nail polish\n",
      "--------------------------------------------------\n",
      "Tweets containing keywords found in file cleaned_lottietommo.csv:\n",
      "rt teenvogue nail polish lottietommo new collab every lazy girl dream\n",
      "--------------------------------------------------\n",
      "Tweets containing keywords found in file cleaned_victoriabeckham.csv:\n",
      "rt britishvogue victoriabeckham teamed nailsinc collection nail polish\n",
      "--------------------------------------------------\n",
      "Tweets containing keywords found in file cleaned_rampalarjun.csv:\n",
      "rt amarujalanews nail polish review nailpolishreview\n",
      "--------------------------------------------------\n",
      "Tweets containing keywords found in file cleaned_VanessaHudgens.csv:\n",
      "introducing perfect nail polish shade zodiac sign\n",
      "--------------------------------------------------\n",
      "Tweets containing keywords found in file cleaned_Zendaya.csv:\n",
      "rt mrjerometrammel one noticed beyonce went change outfit changed damn nail polish\n",
      "--------------------------------------------------\n",
      "Tweets containing keywords found in file cleaned_RachelZoe.csv:\n",
      "best glitter nail polish party season\n",
      "--------------------------------------------------\n",
      "popular nail polish color pinterest good booked mani\n",
      "--------------------------------------------------\n",
      "Tweets containing keywords found in file cleaned_cesc4official.csv:\n",
      "nail polish amp lipstick starting early allundercontrol\n",
      "--------------------------------------------------\n",
      "Tweets containing keywords found in file cleaned_ShraddhaKapoor.csv:\n",
      "arre baapu nail polish toh chhod dete disneyplushsvip done gogoisback hai toh kuch loot kar jaayenge advertisment sponsored vinay picture andaz apna apna produced mr vinay sinha\n",
      "--------------------------------------------------\n",
      "Tweets containing keywords found in file cleaned_bipsluvurself.csv:\n",
      "thank suzannedadhich sending cool holographic flakies nail polish\n",
      "--------------------------------------------------\n",
      "Tweets containing keywords found in file cleaned_LaurenConrad.csv:\n",
      "save drama nail polish one color\n",
      "--------------------------------------------------\n",
      "nail polish favorite\n",
      "--------------------------------------------------\n",
      "Tweets containing keywords found in file cleaned_LunaMaya26.csv:\n",
      "rt lunahabit using harsh acetone solution look nail polish remover keep ur\n",
      "--------------------------------------------------\n"
     ]
    }
   ],
   "source": [
    "import os\n",
    "import pandas as pd\n",
    "\n",
    "def keyword_search(cleaned_tweet, keywords):\n",
    "    \"\"\"\n",
    "    Perform keyword search in the cleaned tweet.\n",
    "\n",
    "    Args:\n",
    "    cleaned_tweet (str): The preprocessed tweet text.\n",
    "    keywords (list of str): The list of keywords to search for.\n",
    "\n",
    "    Returns:\n",
    "    bool: True if any of the keywords are present in the cleaned tweet, False otherwise.\n",
    "    \"\"\"\n",
    "    for keyword in keywords:\n",
    "        if keyword in cleaned_tweet:\n",
    "            return True\n",
    "    return False\n",
    "\n",
    "# Example usage:\n",
    "keywords = [\"nail polish\"]\n",
    "\n",
    "# Specify the directory containing the CSV files\n",
    "csv_directory = '/Users/qanand/Celebrity_Twitter/cleaned_tweets'  # Replace 'your_csv_directory_path' with the path to your directory\n",
    "\n",
    "# List all CSV files in the directory\n",
    "csv_files = [file for file in os.listdir(csv_directory) if file.endswith('.csv')]\n",
    "\n",
    "# Iterate through each CSV file\n",
    "for csv_file in csv_files:\n",
    "    # Read the CSV file into a DataFrame\n",
    "    df = pd.read_csv(os.path.join(csv_directory, csv_file))\n",
    "    \n",
    "    # Create an empty list to store tweets containing the keyword\n",
    "    tweets_with_keyword = []\n",
    "\n",
    "    # Iterate through each tweet in the dataset\n",
    "    for index, row in df.iterrows():\n",
    "        tweet = row[\"cleaned_tweets\"]\n",
    "        \n",
    "        # Check if the tweet is a valid string\n",
    "        if isinstance(tweet, str):\n",
    "            # Check if the tweet contains any of the keywords\n",
    "            if keyword_search(tweet, keywords):\n",
    "                tweets_with_keyword.append(tweet)\n",
    "    \n",
    "    # Print tweets containing the keywords found in the current CSV file\n",
    "    if tweets_with_keyword:\n",
    "        print(f\"Tweets containing keywords found in file {csv_file}:\")\n",
    "        for tweet in tweets_with_keyword:\n",
    "            print(tweet)\n",
    "            print(\"-\" * 50)  # Separating lines for readability\n"
   ]
  },
  {
   "cell_type": "markdown",
   "metadata": {},
   "source": [
    "Keyword Search for the required product in the cleaned tweets."
   ]
  },
  {
   "cell_type": "code",
   "execution_count": 79,
   "metadata": {},
   "outputs": [
    {
     "name": "stdout",
     "output_type": "stream",
     "text": [
      "        Keyword            Celebrity  Frequency\n",
      "0   nail polish   825374372336640001          1\n",
      "1   nail polish   434609967602352128          1\n",
      "2   nail polish  1188445549407756290          1\n",
      "3   nail polish   980379178615951361          1\n",
      "4   nail polish   535831859109040128          1\n",
      "5   nail polish  1522683420396163072          1\n",
      "6   nail polish          13213908623          1\n",
      "7   nail polish  1465727752372310022          1\n",
      "8   nail polish  1025846314628726784          1\n",
      "9   nail polish  1002611726297321472          1\n",
      "10  nail polish  1509085667330072581          1\n",
      "11  nail polish  1501230969398960133          1\n",
      "12  nail polish   178624863349645313          1\n",
      "13  nail polish   913877465478475776          1\n",
      "14  nail polish   757668301220749312          1\n",
      "15  nail polish   540821216907788288          1\n",
      "16  nail polish  1345295410290561024          1\n",
      "17  nail polish   744640493770924032          1\n",
      "18  nail polish   985450243977240577          1\n",
      "19  nail polish   936739226707726342          1\n",
      "20  nail polish   922606086842073088          1\n",
      "21  nail polish   522460883935854593          1\n",
      "22  nail polish  1417062278390640640          1\n",
      "23  nail polish   840548721599369216          1\n",
      "24  nail polish   822564712441323521          1\n",
      "25  nail polish   690293466740473857          1\n",
      "26  nail polish   835493081365405698          1\n"
     ]
    }
   ],
   "source": [
    "import os\n",
    "import pandas as pd\n",
    "from collections import defaultdict\n",
    "\n",
    "# Specify the directory containing the CSV files\n",
    "csv_directory = '/Users/qanand/Celebrity_Twitter/cleaned_tweets'  # Replace 'your_csv_directory_path' with the path to your directory\n",
    "\n",
    "# List all CSV files in the directory\n",
    "csv_files = [file for file in os.listdir(csv_directory) if file.endswith('.csv')]\n",
    "\n",
    "# Create a defaultdict to store the data structure\n",
    "network_data = defaultdict(lambda: defaultdict(int))\n",
    "\n",
    "# Iterate through each CSV file\n",
    "for csv_file in csv_files:\n",
    "    # Read the CSV file into a DataFrame\n",
    "    df = pd.read_csv(os.path.join(csv_directory, csv_file))\n",
    "    \n",
    "    # Iterate through each tweet in the dataset\n",
    "    for index, row in df.iterrows():\n",
    "        tweet = row[\"cleaned_tweets\"]\n",
    "        \n",
    "        # Check if the tweet is a valid string\n",
    "        if isinstance(tweet, str):\n",
    "            # Iterate through each keyword\n",
    "            for keyword in keywords:\n",
    "                # Check if the keyword is in the tweet\n",
    "                if keyword in tweet:\n",
    "                    # Update the data structure with celebrity name and frequency\n",
    "                    celeb_name = row[\"twitter_id\"]  # Assuming TwitterID column contains the celebrity name\n",
    "                    network_data[keyword][celeb_name] += 1  # Increment the frequency\n",
    "\n",
    "# Convert network_data dictionary to list of dictionaries\n",
    "data_list = []\n",
    "\n",
    "for keyword, celeb_data in network_data.items():\n",
    "    for celeb_name, frequency in celeb_data.items():\n",
    "        data_list.append({'Keyword': keyword, 'Celebrity': celeb_name, 'Frequency': frequency})\n",
    "\n",
    "# Create DataFrame\n",
    "df_network = pd.DataFrame(data_list)\n",
    "\n",
    "# Print DataFrame\n",
    "print(df_network)\n"
   ]
  },
  {
   "cell_type": "code",
   "execution_count": 80,
   "metadata": {},
   "outputs": [
    {
     "name": "stdout",
     "output_type": "stream",
     "text": [
      "        Keyword            Celebrity  Frequency\n",
      "0   nail polish   825374372336640001          1\n",
      "1   nail polish   434609967602352128          1\n",
      "2   nail polish  1188445549407756290          1\n",
      "3   nail polish   980379178615951361          1\n",
      "4   nail polish   535831859109040128          1\n",
      "5   nail polish  1522683420396163072          1\n",
      "6   nail polish          13213908623          1\n",
      "7   nail polish  1465727752372310022          1\n",
      "8   nail polish  1025846314628726784          1\n",
      "9   nail polish  1002611726297321472          1\n",
      "10  nail polish  1509085667330072581          1\n",
      "11  nail polish  1501230969398960133          1\n",
      "12  nail polish   178624863349645313          1\n",
      "13  nail polish   913877465478475776          1\n",
      "14  nail polish   757668301220749312          1\n",
      "15  nail polish   540821216907788288          1\n",
      "16  nail polish  1345295410290561024          1\n",
      "17  nail polish   744640493770924032          1\n",
      "18  nail polish   985450243977240577          1\n",
      "19  nail polish   936739226707726342          1\n",
      "20  nail polish   922606086842073088          1\n",
      "21  nail polish   522460883935854593          1\n",
      "22  nail polish  1417062278390640640          1\n",
      "23  nail polish   840548721599369216          1\n",
      "24  nail polish   822564712441323521          1\n",
      "25  nail polish   690293466740473857          1\n",
      "26  nail polish   835493081365405698          1\n"
     ]
    }
   ],
   "source": [
    "import os\n",
    "import pandas as pd\n",
    "\n",
    "# Specify the directory containing the CSV files\n",
    "csv_directory = '/Users/qanand/Celebrity_Twitter/cleaned_tweets'  # Replace 'your_csv_directory_path' with the path to your directory\n",
    "\n",
    "# List all CSV files in the directory\n",
    "csv_files = [file for file in os.listdir(csv_directory) if file.endswith('.csv')]\n",
    "\n",
    "# Create a dictionary to store the data structure\n",
    "network_data = {}\n",
    "\n",
    "# Iterate through each CSV file\n",
    "for csv_file in csv_files:\n",
    "    # Read the CSV file into a DataFrame\n",
    "    df = pd.read_csv(os.path.join(csv_directory, csv_file))\n",
    "    \n",
    "    # Iterate through each tweet in the dataset\n",
    "    for index, row in df.iterrows():\n",
    "        tweet = row[\"cleaned_tweets\"]\n",
    "        \n",
    "        # Check if the tweet is a valid string\n",
    "        if isinstance(tweet, str):\n",
    "            # Iterate through each keyword\n",
    "            for keyword in keywords:\n",
    "                # Check if the keyword is in the tweet\n",
    "                if keyword in tweet:\n",
    "                    # Update the data structure with celebrity name and frequency\n",
    "                    celeb_name = row[\"twitter_id\"]  # Assuming TwitterID column contains the celebrity name\n",
    "                    key = (keyword, celeb_name)\n",
    "                    if key in network_data:\n",
    "                        network_data[key] += 1\n",
    "                    else:\n",
    "                        network_data[key] = 1\n",
    "\n",
    "# Convert network_data dictionary to list of dictionaries for DataFrame\n",
    "data_list = [{'Keyword': key[0], 'Celebrity': key[1], 'Frequency': freq} for key, freq in network_data.items()]\n",
    "\n",
    "# Create DataFrame\n",
    "df_network = pd.DataFrame(data_list)\n",
    "\n",
    "# Print DataFrame\n",
    "print(df_network)\n"
   ]
  },
  {
   "cell_type": "code",
   "execution_count": 81,
   "metadata": {},
   "outputs": [
    {
     "name": "stdout",
     "output_type": "stream",
     "text": [
      "        Keyword         username  Frequency  \\\n",
      "0   nail polish           iamsrk          1   \n",
      "1   nail polish        simonpegg          1   \n",
      "2   nail polish      jimmyfallon          1   \n",
      "3   nail polish        shaymitch          1   \n",
      "4   nail polish    mynameisrossa          1   \n",
      "5   nail polish        ochocinco          1   \n",
      "6   nail polish   AnnaKendrick47          1   \n",
      "7   nail polish            notch          1   \n",
      "8   nail polish              Tip          1   \n",
      "9   nail polish  kourtneykardash          1   \n",
      "10  nail polish             Lord          2   \n",
      "11  nail polish      bigtimerush          1   \n",
      "12  nail polish       lenadunham          1   \n",
      "13  nail polish      lottietommo          1   \n",
      "14  nail polish  victoriabeckham          1   \n",
      "15  nail polish      rampalarjun          1   \n",
      "16  nail polish   VanessaHudgens          1   \n",
      "17  nail polish          Zendaya          1   \n",
      "18  nail polish        RachelZoe          2   \n",
      "19  nail polish    cesc4official          1   \n",
      "20  nail polish   ShraddhaKapoor          1   \n",
      "21  nail polish    bipsluvurself          1   \n",
      "22  nail polish     LaurenConrad          2   \n",
      "23  nail polish       LunaMaya26          1   \n",
      "\n",
      "                                       SelectedTweets  \n",
      "0                thank u next film trying nail polish  \n",
      "1   think going go camel toe libtechnologies xc2 t...  \n",
      "2   fun pumpkin carving fact get sharpie permanent...  \n",
      "3   building inspired nail polish change pastel sh...  \n",
      "4   makasiii kirimannya semua fav aku dari mulai p...  \n",
      "5                              wear black nail polish  \n",
      "6   also picking last blue nail polish get event g...  \n",
      "7       techconnectify started using nail polish mine  \n",
      "8   baby bos heiressdharris already bringing bankr...  \n",
      "9   happy national nail polish day take quiz see c...  \n",
      "10  rt completely lift tired gel nail polish 15 mi...  \n",
      "11  rt ohnoxitsalyssa bigtimerush would wear btr n...  \n",
      "12  emilygould happy report people comment picture...  \n",
      "13  rt teenvogue nail polish lottietommo new colla...  \n",
      "14  rt britishvogue victoriabeckham teamed nailsin...  \n",
      "15  rt amarujalanews nail polish review nailpolish...  \n",
      "16  introducing perfect nail polish shade zodiac sign  \n",
      "17  rt mrjerometrammel one noticed beyonce went ch...  \n",
      "18  best glitter nail polish party season popular ...  \n",
      "19  nail polish amp lipstick starting early allund...  \n",
      "20  arre baapu nail polish toh chhod dete disneypl...  \n",
      "21  thank suzannedadhich sending cool holographic ...  \n",
      "22  save drama nail polish one color nail polish f...  \n",
      "23  rt lunahabit using harsh acetone solution look...  \n"
     ]
    }
   ],
   "source": [
    "import os\n",
    "import pandas as pd\n",
    "from collections import defaultdict\n",
    "\n",
    "# Specify the directory containing the CSV files\n",
    "csv_directory = '/Users/qanand/Celebrity_Twitter/cleaned_tweets'  # Replace 'your_csv_directory_path' with the path to your directory\n",
    "\n",
    "# List all CSV files in the directory\n",
    "csv_files = [file for file in os.listdir(csv_directory) if file.endswith('.csv')]\n",
    "\n",
    "# Read the CSV file containing additional parameters (celebrity names, followers count, tweet count)\n",
    "parameters_df = pd.read_csv('/Users/qanand/Celebrity_Twitter/Top-1000-Celebrity-Twitter-Accounts.csv')  # Replace '/path/to/parameters.csv' with the actual path to your parameters CSV file\n",
    "\n",
    "# Create a defaultdict to store the data structure\n",
    "network_data = defaultdict(lambda: defaultdict(int))\n",
    "\n",
    "# Iterate through each CSV file\n",
    "for csv_file in csv_files:\n",
    "    filename = csv_file.split(\".\")[0]\n",
    "    username = filename.split(\"_\")[1] \n",
    "    # Read the CSV file into a DataFrame\n",
    "    df = pd.read_csv(os.path.join(csv_directory, csv_file))\n",
    "    \n",
    "    # Iterate through each tweet in the dataset\n",
    "    for index, row in df.iterrows():\n",
    "        tweet = row[\"cleaned_tweets\"]\n",
    "        \n",
    "        # Check if the tweet is a valid string\n",
    "        if isinstance(tweet, str):\n",
    "            # Iterate through each keyword\n",
    "            for keyword in keywords:\n",
    "                # Check if the keyword is in the tweet\n",
    "                if keyword in tweet:\n",
    "                    # Update the data structure with celebrity name and frequency\n",
    "                    celeb_name = row[\"twitter_id\"]  # Assuming TwitterID column contains the celebrity name\n",
    "\n",
    "                    \n",
    "                    \n",
    "                  \n",
    "\n",
    "                    # Initialize the dictionary if it doesn't exist yet\n",
    "                    if username not in network_data[keyword]:\n",
    "                        network_data[keyword][username] = {'Frequency': 0, 'SelectedTweets': []}\n",
    "\n",
    "                    # Increment the frequency\n",
    "                    network_data[keyword][username]['Frequency'] += 1\n",
    "\n",
    "                    # Append selected tweet to the list of selected tweets\n",
    "                    network_data[keyword][username]['SelectedTweets'].append(tweet)\n",
    "\n",
    "                    \n",
    "# Create a list to store the data for DataFrame\n",
    "data_list = []\n",
    "\n",
    "# Iterate through the network data and parameters DataFrame to create rows for DataFrame\n",
    "for keyword, celeb_data in network_data.items():\n",
    "    for celeb_name, celeb_info in celeb_data.items():\n",
    "        # Find corresponding row in parameters DataFrame\n",
    "        celeb_row = parameters_df[parameters_df['username'] == celeb_name]\n",
    "        \n",
    "        # Concatenate selected tweets into a single string\n",
    "        selected_tweets = ' '.join(celeb_info['SelectedTweets'])\n",
    "        \n",
    "        # Append data to data_list\n",
    "        data_list.append({\n",
    "            'Keyword': keyword,\n",
    "            'username': celeb_name,\n",
    "            'Frequency': celeb_info['Frequency'],\n",
    "            'SelectedTweets': selected_tweets\n",
    "        })\n",
    "\n",
    "# Create DataFrame\n",
    "df_network = pd.DataFrame(data_list)\n",
    "\n",
    "# Print or further process the DataFrame\n",
    "print(df_network)"
   ]
  },
  {
   "cell_type": "code",
   "execution_count": 82,
   "metadata": {},
   "outputs": [
    {
     "name": "stdout",
     "output_type": "stream",
     "text": [
      "           username   twitter_id                     domain  \\\n",
      "0       jimmyfallon   15485441.0            tonightshow.com   \n",
      "1            iamsrk  101311381.0                        NaN   \n",
      "2   kourtneykardash   23617610.0                        NaN   \n",
      "3           Zendaya  154280902.0              crowdrise.com   \n",
      "4    ShraddhaKapoor  317034396.0                        NaN   \n",
      "5        LunaMaya26  128841198.0            itslunamaya.com   \n",
      "6   victoriabeckham  185314895.0        victoriabeckham.com   \n",
      "7     cesc4official  185827887.0           cescfabregas.com   \n",
      "8               Tip  117778179.0        grandhustlegang.com   \n",
      "9    AnnaKendrick47   59949396.0                        NaN   \n",
      "10   VanessaHudgens  274119641.0  vanessahudgens.tumblr.com   \n",
      "11    bipsluvurself  107318424.0         bipashabasunet.com   \n",
      "12        simonpegg   18713254.0              simonpegg.net   \n",
      "13       lenadunham   31080039.0            lennyletter.com   \n",
      "14      rampalarjun  108936259.0                        NaN   \n",
      "15    mynameisrossa  180396151.0           pecintarossa.com   \n",
      "16            notch   63485337.0                  notch.net   \n",
      "17        RachelZoe   30704824.0           thezoereport.com   \n",
      "18      bigtimerush   79536438.0                btrband.com   \n",
      "19        ochocinco   40519997.0             ocnnreport.com   \n",
      "20        shaymitch   21219827.0           us.macmillan.com   \n",
      "21     LaurenConrad   34097876.0           laurenconrad.com   \n",
      "22      lottietommo  272561314.0        lottietomlinson.com   \n",
      "\n",
      "                   name  followers_count  tweet_count      Keyword  Frequency  \\\n",
      "0          jimmy fallon       51467139.0      14098.0  nail polish          1   \n",
      "1        Shah Rukh Khan       42481882.0      58278.0  nail polish          1   \n",
      "2   Kourtney Kardashian       26478393.0      14264.0  nail polish          1   \n",
      "3               Zendaya       20737698.0      58446.0  nail polish          1   \n",
      "4       Shraddha Kapoor       14323785.0       5720.0  nail polish          1   \n",
      "5             luna maya       11943877.0      15870.0  nail polish          1   \n",
      "6      Victoria Beckham       11878971.0       4024.0  nail polish          1   \n",
      "7   Cesc Fàbregas Soler       10017890.0       5803.0  nail polish          1   \n",
      "8                  T.I.        9177082.0      19829.0  nail polish          1   \n",
      "9         Anna Kendrick        7001752.0       2470.0  nail polish          1   \n",
      "10      Vanessa Hudgens        6687740.0       4586.0  nail polish          1   \n",
      "11         Bipasha Basu        6662381.0      12252.0  nail polish          1   \n",
      "12            Pegg News        5654126.0      16212.0  nail polish          1   \n",
      "13          Lena Dunham        5253586.0      14783.0  nail polish          1   \n",
      "14         arjun rampal        4485301.0       5752.0  nail polish          1   \n",
      "15       Rossa Roslaina        4193975.0      18746.0  nail polish          1   \n",
      "16       Markus Persson        3656027.0      90024.0  nail polish          1   \n",
      "17           Rachel Zoe        3539896.0      16526.0  nail polish          2   \n",
      "18        Big Time Rush        3312710.0       1072.0  nail polish          1   \n",
      "19         Chad Johnson        3271373.0     175569.0  nail polish          1   \n",
      "20        Shay Mitchell        3007200.0      23239.0  nail polish          1   \n",
      "21        Lauren Conrad        2886047.0       7160.0  nail polish          2   \n",
      "22     Lottie Tomlinson        2408886.0       5012.0  nail polish          1   \n",
      "\n",
      "                                       SelectedTweets  \n",
      "0   fun pumpkin carving fact get sharpie permanent...  \n",
      "1                thank u next film trying nail polish  \n",
      "2   happy national nail polish day take quiz see c...  \n",
      "3   rt mrjerometrammel one noticed beyonce went ch...  \n",
      "4   arre baapu nail polish toh chhod dete disneypl...  \n",
      "5   rt lunahabit using harsh acetone solution look...  \n",
      "6   rt britishvogue victoriabeckham teamed nailsin...  \n",
      "7   nail polish amp lipstick starting early allund...  \n",
      "8   baby bos heiressdharris already bringing bankr...  \n",
      "9   also picking last blue nail polish get event g...  \n",
      "10  introducing perfect nail polish shade zodiac sign  \n",
      "11  thank suzannedadhich sending cool holographic ...  \n",
      "12  think going go camel toe libtechnologies xc2 t...  \n",
      "13  emilygould happy report people comment picture...  \n",
      "14  rt amarujalanews nail polish review nailpolish...  \n",
      "15  makasiii kirimannya semua fav aku dari mulai p...  \n",
      "16      techconnectify started using nail polish mine  \n",
      "17  best glitter nail polish party season popular ...  \n",
      "18  rt ohnoxitsalyssa bigtimerush would wear btr n...  \n",
      "19                             wear black nail polish  \n",
      "20  building inspired nail polish change pastel sh...  \n",
      "21  save drama nail polish one color nail polish f...  \n",
      "22  rt teenvogue nail polish lottietommo new colla...  \n"
     ]
    }
   ],
   "source": [
    "import pandas as pd\n",
    "\n",
    "# Read the CSV files into dataframes\n",
    "df1 = pd.read_csv('/Users/qanand/Celebrity_Twitter/Top-1000-Celebrity-Twitter-Accounts.csv')\n",
    "\n",
    "\n",
    "# Merge the dataframes on a common column\n",
    "merged_df = pd.merge(df1, df_network, on='username', how='inner')\n",
    "\n",
    "# Print the merged dataframe\n",
    "print(merged_df)\n",
    "\n"
   ]
  },
  {
   "cell_type": "code",
   "execution_count": 83,
   "metadata": {},
   "outputs": [
    {
     "name": "stdout",
     "output_type": "stream",
     "text": [
      "<class 'pandas.core.frame.DataFrame'>\n",
      "RangeIndex: 23 entries, 0 to 22\n",
      "Data columns (total 9 columns):\n",
      " #   Column           Non-Null Count  Dtype  \n",
      "---  ------           --------------  -----  \n",
      " 0   username         23 non-null     object \n",
      " 1   twitter_id       23 non-null     float64\n",
      " 2   domain           18 non-null     object \n",
      " 3   name             23 non-null     object \n",
      " 4   followers_count  23 non-null     float64\n",
      " 5   tweet_count      23 non-null     float64\n",
      " 6   Keyword          23 non-null     object \n",
      " 7   Frequency        23 non-null     int64  \n",
      " 8   SelectedTweets   23 non-null     object \n",
      "dtypes: float64(3), int64(1), object(5)\n",
      "memory usage: 1.7+ KB\n"
     ]
    }
   ],
   "source": [
    "merged_df.info()"
   ]
  },
  {
   "cell_type": "code",
   "execution_count": 84,
   "metadata": {},
   "outputs": [
    {
     "data": {
      "text/html": [
       "<div>\n",
       "<style scoped>\n",
       "    .dataframe tbody tr th:only-of-type {\n",
       "        vertical-align: middle;\n",
       "    }\n",
       "\n",
       "    .dataframe tbody tr th {\n",
       "        vertical-align: top;\n",
       "    }\n",
       "\n",
       "    .dataframe thead th {\n",
       "        text-align: right;\n",
       "    }\n",
       "</style>\n",
       "<table border=\"1\" class=\"dataframe\">\n",
       "  <thead>\n",
       "    <tr style=\"text-align: right;\">\n",
       "      <th></th>\n",
       "      <th>username</th>\n",
       "      <th>twitter_id</th>\n",
       "      <th>domain</th>\n",
       "      <th>name</th>\n",
       "      <th>followers_count</th>\n",
       "      <th>tweet_count</th>\n",
       "      <th>Keyword</th>\n",
       "      <th>Frequency</th>\n",
       "      <th>SelectedTweets</th>\n",
       "    </tr>\n",
       "  </thead>\n",
       "  <tbody>\n",
       "    <tr>\n",
       "      <th>0</th>\n",
       "      <td>jimmyfallon</td>\n",
       "      <td>15485441.0</td>\n",
       "      <td>tonightshow.com</td>\n",
       "      <td>jimmy fallon</td>\n",
       "      <td>51467139.0</td>\n",
       "      <td>14098.0</td>\n",
       "      <td>nail polish</td>\n",
       "      <td>1</td>\n",
       "      <td>fun pumpkin carving fact get sharpie permanent...</td>\n",
       "    </tr>\n",
       "    <tr>\n",
       "      <th>1</th>\n",
       "      <td>iamsrk</td>\n",
       "      <td>101311381.0</td>\n",
       "      <td>NaN</td>\n",
       "      <td>Shah Rukh Khan</td>\n",
       "      <td>42481882.0</td>\n",
       "      <td>58278.0</td>\n",
       "      <td>nail polish</td>\n",
       "      <td>1</td>\n",
       "      <td>thank u next film trying nail polish</td>\n",
       "    </tr>\n",
       "    <tr>\n",
       "      <th>2</th>\n",
       "      <td>kourtneykardash</td>\n",
       "      <td>23617610.0</td>\n",
       "      <td>NaN</td>\n",
       "      <td>Kourtney Kardashian</td>\n",
       "      <td>26478393.0</td>\n",
       "      <td>14264.0</td>\n",
       "      <td>nail polish</td>\n",
       "      <td>1</td>\n",
       "      <td>happy national nail polish day take quiz see c...</td>\n",
       "    </tr>\n",
       "    <tr>\n",
       "      <th>3</th>\n",
       "      <td>Zendaya</td>\n",
       "      <td>154280902.0</td>\n",
       "      <td>crowdrise.com</td>\n",
       "      <td>Zendaya</td>\n",
       "      <td>20737698.0</td>\n",
       "      <td>58446.0</td>\n",
       "      <td>nail polish</td>\n",
       "      <td>1</td>\n",
       "      <td>rt mrjerometrammel one noticed beyonce went ch...</td>\n",
       "    </tr>\n",
       "    <tr>\n",
       "      <th>4</th>\n",
       "      <td>ShraddhaKapoor</td>\n",
       "      <td>317034396.0</td>\n",
       "      <td>NaN</td>\n",
       "      <td>Shraddha Kapoor</td>\n",
       "      <td>14323785.0</td>\n",
       "      <td>5720.0</td>\n",
       "      <td>nail polish</td>\n",
       "      <td>1</td>\n",
       "      <td>arre baapu nail polish toh chhod dete disneypl...</td>\n",
       "    </tr>\n",
       "    <tr>\n",
       "      <th>5</th>\n",
       "      <td>LunaMaya26</td>\n",
       "      <td>128841198.0</td>\n",
       "      <td>itslunamaya.com</td>\n",
       "      <td>luna maya</td>\n",
       "      <td>11943877.0</td>\n",
       "      <td>15870.0</td>\n",
       "      <td>nail polish</td>\n",
       "      <td>1</td>\n",
       "      <td>rt lunahabit using harsh acetone solution look...</td>\n",
       "    </tr>\n",
       "    <tr>\n",
       "      <th>6</th>\n",
       "      <td>victoriabeckham</td>\n",
       "      <td>185314895.0</td>\n",
       "      <td>victoriabeckham.com</td>\n",
       "      <td>Victoria Beckham</td>\n",
       "      <td>11878971.0</td>\n",
       "      <td>4024.0</td>\n",
       "      <td>nail polish</td>\n",
       "      <td>1</td>\n",
       "      <td>rt britishvogue victoriabeckham teamed nailsin...</td>\n",
       "    </tr>\n",
       "    <tr>\n",
       "      <th>7</th>\n",
       "      <td>cesc4official</td>\n",
       "      <td>185827887.0</td>\n",
       "      <td>cescfabregas.com</td>\n",
       "      <td>Cesc Fàbregas Soler</td>\n",
       "      <td>10017890.0</td>\n",
       "      <td>5803.0</td>\n",
       "      <td>nail polish</td>\n",
       "      <td>1</td>\n",
       "      <td>nail polish amp lipstick starting early allund...</td>\n",
       "    </tr>\n",
       "    <tr>\n",
       "      <th>8</th>\n",
       "      <td>Tip</td>\n",
       "      <td>117778179.0</td>\n",
       "      <td>grandhustlegang.com</td>\n",
       "      <td>T.I.</td>\n",
       "      <td>9177082.0</td>\n",
       "      <td>19829.0</td>\n",
       "      <td>nail polish</td>\n",
       "      <td>1</td>\n",
       "      <td>baby bos heiressdharris already bringing bankr...</td>\n",
       "    </tr>\n",
       "    <tr>\n",
       "      <th>9</th>\n",
       "      <td>AnnaKendrick47</td>\n",
       "      <td>59949396.0</td>\n",
       "      <td>NaN</td>\n",
       "      <td>Anna Kendrick</td>\n",
       "      <td>7001752.0</td>\n",
       "      <td>2470.0</td>\n",
       "      <td>nail polish</td>\n",
       "      <td>1</td>\n",
       "      <td>also picking last blue nail polish get event g...</td>\n",
       "    </tr>\n",
       "    <tr>\n",
       "      <th>10</th>\n",
       "      <td>VanessaHudgens</td>\n",
       "      <td>274119641.0</td>\n",
       "      <td>vanessahudgens.tumblr.com</td>\n",
       "      <td>Vanessa Hudgens</td>\n",
       "      <td>6687740.0</td>\n",
       "      <td>4586.0</td>\n",
       "      <td>nail polish</td>\n",
       "      <td>1</td>\n",
       "      <td>introducing perfect nail polish shade zodiac sign</td>\n",
       "    </tr>\n",
       "    <tr>\n",
       "      <th>11</th>\n",
       "      <td>bipsluvurself</td>\n",
       "      <td>107318424.0</td>\n",
       "      <td>bipashabasunet.com</td>\n",
       "      <td>Bipasha Basu</td>\n",
       "      <td>6662381.0</td>\n",
       "      <td>12252.0</td>\n",
       "      <td>nail polish</td>\n",
       "      <td>1</td>\n",
       "      <td>thank suzannedadhich sending cool holographic ...</td>\n",
       "    </tr>\n",
       "    <tr>\n",
       "      <th>12</th>\n",
       "      <td>simonpegg</td>\n",
       "      <td>18713254.0</td>\n",
       "      <td>simonpegg.net</td>\n",
       "      <td>Pegg News</td>\n",
       "      <td>5654126.0</td>\n",
       "      <td>16212.0</td>\n",
       "      <td>nail polish</td>\n",
       "      <td>1</td>\n",
       "      <td>think going go camel toe libtechnologies xc2 t...</td>\n",
       "    </tr>\n",
       "    <tr>\n",
       "      <th>13</th>\n",
       "      <td>lenadunham</td>\n",
       "      <td>31080039.0</td>\n",
       "      <td>lennyletter.com</td>\n",
       "      <td>Lena Dunham</td>\n",
       "      <td>5253586.0</td>\n",
       "      <td>14783.0</td>\n",
       "      <td>nail polish</td>\n",
       "      <td>1</td>\n",
       "      <td>emilygould happy report people comment picture...</td>\n",
       "    </tr>\n",
       "    <tr>\n",
       "      <th>14</th>\n",
       "      <td>rampalarjun</td>\n",
       "      <td>108936259.0</td>\n",
       "      <td>NaN</td>\n",
       "      <td>arjun rampal</td>\n",
       "      <td>4485301.0</td>\n",
       "      <td>5752.0</td>\n",
       "      <td>nail polish</td>\n",
       "      <td>1</td>\n",
       "      <td>rt amarujalanews nail polish review nailpolish...</td>\n",
       "    </tr>\n",
       "    <tr>\n",
       "      <th>15</th>\n",
       "      <td>mynameisrossa</td>\n",
       "      <td>180396151.0</td>\n",
       "      <td>pecintarossa.com</td>\n",
       "      <td>Rossa Roslaina</td>\n",
       "      <td>4193975.0</td>\n",
       "      <td>18746.0</td>\n",
       "      <td>nail polish</td>\n",
       "      <td>1</td>\n",
       "      <td>makasiii kirimannya semua fav aku dari mulai p...</td>\n",
       "    </tr>\n",
       "    <tr>\n",
       "      <th>16</th>\n",
       "      <td>notch</td>\n",
       "      <td>63485337.0</td>\n",
       "      <td>notch.net</td>\n",
       "      <td>Markus Persson</td>\n",
       "      <td>3656027.0</td>\n",
       "      <td>90024.0</td>\n",
       "      <td>nail polish</td>\n",
       "      <td>1</td>\n",
       "      <td>techconnectify started using nail polish mine</td>\n",
       "    </tr>\n",
       "    <tr>\n",
       "      <th>17</th>\n",
       "      <td>RachelZoe</td>\n",
       "      <td>30704824.0</td>\n",
       "      <td>thezoereport.com</td>\n",
       "      <td>Rachel Zoe</td>\n",
       "      <td>3539896.0</td>\n",
       "      <td>16526.0</td>\n",
       "      <td>nail polish</td>\n",
       "      <td>2</td>\n",
       "      <td>best glitter nail polish party season popular ...</td>\n",
       "    </tr>\n",
       "    <tr>\n",
       "      <th>18</th>\n",
       "      <td>bigtimerush</td>\n",
       "      <td>79536438.0</td>\n",
       "      <td>btrband.com</td>\n",
       "      <td>Big Time Rush</td>\n",
       "      <td>3312710.0</td>\n",
       "      <td>1072.0</td>\n",
       "      <td>nail polish</td>\n",
       "      <td>1</td>\n",
       "      <td>rt ohnoxitsalyssa bigtimerush would wear btr n...</td>\n",
       "    </tr>\n",
       "    <tr>\n",
       "      <th>19</th>\n",
       "      <td>ochocinco</td>\n",
       "      <td>40519997.0</td>\n",
       "      <td>ocnnreport.com</td>\n",
       "      <td>Chad Johnson</td>\n",
       "      <td>3271373.0</td>\n",
       "      <td>175569.0</td>\n",
       "      <td>nail polish</td>\n",
       "      <td>1</td>\n",
       "      <td>wear black nail polish</td>\n",
       "    </tr>\n",
       "    <tr>\n",
       "      <th>20</th>\n",
       "      <td>shaymitch</td>\n",
       "      <td>21219827.0</td>\n",
       "      <td>us.macmillan.com</td>\n",
       "      <td>Shay Mitchell</td>\n",
       "      <td>3007200.0</td>\n",
       "      <td>23239.0</td>\n",
       "      <td>nail polish</td>\n",
       "      <td>1</td>\n",
       "      <td>building inspired nail polish change pastel sh...</td>\n",
       "    </tr>\n",
       "    <tr>\n",
       "      <th>21</th>\n",
       "      <td>LaurenConrad</td>\n",
       "      <td>34097876.0</td>\n",
       "      <td>laurenconrad.com</td>\n",
       "      <td>Lauren Conrad</td>\n",
       "      <td>2886047.0</td>\n",
       "      <td>7160.0</td>\n",
       "      <td>nail polish</td>\n",
       "      <td>2</td>\n",
       "      <td>save drama nail polish one color nail polish f...</td>\n",
       "    </tr>\n",
       "    <tr>\n",
       "      <th>22</th>\n",
       "      <td>lottietommo</td>\n",
       "      <td>272561314.0</td>\n",
       "      <td>lottietomlinson.com</td>\n",
       "      <td>Lottie Tomlinson</td>\n",
       "      <td>2408886.0</td>\n",
       "      <td>5012.0</td>\n",
       "      <td>nail polish</td>\n",
       "      <td>1</td>\n",
       "      <td>rt teenvogue nail polish lottietommo new colla...</td>\n",
       "    </tr>\n",
       "  </tbody>\n",
       "</table>\n",
       "</div>"
      ],
      "text/plain": [
       "           username   twitter_id                     domain  \\\n",
       "0       jimmyfallon   15485441.0            tonightshow.com   \n",
       "1            iamsrk  101311381.0                        NaN   \n",
       "2   kourtneykardash   23617610.0                        NaN   \n",
       "3           Zendaya  154280902.0              crowdrise.com   \n",
       "4    ShraddhaKapoor  317034396.0                        NaN   \n",
       "5        LunaMaya26  128841198.0            itslunamaya.com   \n",
       "6   victoriabeckham  185314895.0        victoriabeckham.com   \n",
       "7     cesc4official  185827887.0           cescfabregas.com   \n",
       "8               Tip  117778179.0        grandhustlegang.com   \n",
       "9    AnnaKendrick47   59949396.0                        NaN   \n",
       "10   VanessaHudgens  274119641.0  vanessahudgens.tumblr.com   \n",
       "11    bipsluvurself  107318424.0         bipashabasunet.com   \n",
       "12        simonpegg   18713254.0              simonpegg.net   \n",
       "13       lenadunham   31080039.0            lennyletter.com   \n",
       "14      rampalarjun  108936259.0                        NaN   \n",
       "15    mynameisrossa  180396151.0           pecintarossa.com   \n",
       "16            notch   63485337.0                  notch.net   \n",
       "17        RachelZoe   30704824.0           thezoereport.com   \n",
       "18      bigtimerush   79536438.0                btrband.com   \n",
       "19        ochocinco   40519997.0             ocnnreport.com   \n",
       "20        shaymitch   21219827.0           us.macmillan.com   \n",
       "21     LaurenConrad   34097876.0           laurenconrad.com   \n",
       "22      lottietommo  272561314.0        lottietomlinson.com   \n",
       "\n",
       "                   name  followers_count  tweet_count      Keyword  Frequency  \\\n",
       "0          jimmy fallon       51467139.0      14098.0  nail polish          1   \n",
       "1        Shah Rukh Khan       42481882.0      58278.0  nail polish          1   \n",
       "2   Kourtney Kardashian       26478393.0      14264.0  nail polish          1   \n",
       "3               Zendaya       20737698.0      58446.0  nail polish          1   \n",
       "4       Shraddha Kapoor       14323785.0       5720.0  nail polish          1   \n",
       "5             luna maya       11943877.0      15870.0  nail polish          1   \n",
       "6      Victoria Beckham       11878971.0       4024.0  nail polish          1   \n",
       "7   Cesc Fàbregas Soler       10017890.0       5803.0  nail polish          1   \n",
       "8                  T.I.        9177082.0      19829.0  nail polish          1   \n",
       "9         Anna Kendrick        7001752.0       2470.0  nail polish          1   \n",
       "10      Vanessa Hudgens        6687740.0       4586.0  nail polish          1   \n",
       "11         Bipasha Basu        6662381.0      12252.0  nail polish          1   \n",
       "12            Pegg News        5654126.0      16212.0  nail polish          1   \n",
       "13          Lena Dunham        5253586.0      14783.0  nail polish          1   \n",
       "14         arjun rampal        4485301.0       5752.0  nail polish          1   \n",
       "15       Rossa Roslaina        4193975.0      18746.0  nail polish          1   \n",
       "16       Markus Persson        3656027.0      90024.0  nail polish          1   \n",
       "17           Rachel Zoe        3539896.0      16526.0  nail polish          2   \n",
       "18        Big Time Rush        3312710.0       1072.0  nail polish          1   \n",
       "19         Chad Johnson        3271373.0     175569.0  nail polish          1   \n",
       "20        Shay Mitchell        3007200.0      23239.0  nail polish          1   \n",
       "21        Lauren Conrad        2886047.0       7160.0  nail polish          2   \n",
       "22     Lottie Tomlinson        2408886.0       5012.0  nail polish          1   \n",
       "\n",
       "                                       SelectedTweets  \n",
       "0   fun pumpkin carving fact get sharpie permanent...  \n",
       "1                thank u next film trying nail polish  \n",
       "2   happy national nail polish day take quiz see c...  \n",
       "3   rt mrjerometrammel one noticed beyonce went ch...  \n",
       "4   arre baapu nail polish toh chhod dete disneypl...  \n",
       "5   rt lunahabit using harsh acetone solution look...  \n",
       "6   rt britishvogue victoriabeckham teamed nailsin...  \n",
       "7   nail polish amp lipstick starting early allund...  \n",
       "8   baby bos heiressdharris already bringing bankr...  \n",
       "9   also picking last blue nail polish get event g...  \n",
       "10  introducing perfect nail polish shade zodiac sign  \n",
       "11  thank suzannedadhich sending cool holographic ...  \n",
       "12  think going go camel toe libtechnologies xc2 t...  \n",
       "13  emilygould happy report people comment picture...  \n",
       "14  rt amarujalanews nail polish review nailpolish...  \n",
       "15  makasiii kirimannya semua fav aku dari mulai p...  \n",
       "16      techconnectify started using nail polish mine  \n",
       "17  best glitter nail polish party season popular ...  \n",
       "18  rt ohnoxitsalyssa bigtimerush would wear btr n...  \n",
       "19                             wear black nail polish  \n",
       "20  building inspired nail polish change pastel sh...  \n",
       "21  save drama nail polish one color nail polish f...  \n",
       "22  rt teenvogue nail polish lottietommo new colla...  "
      ]
     },
     "execution_count": 84,
     "metadata": {},
     "output_type": "execute_result"
    }
   ],
   "source": [
    "merged_df"
   ]
  },
  {
   "cell_type": "markdown",
   "metadata": {},
   "source": []
  },
  {
   "cell_type": "code",
   "execution_count": 85,
   "metadata": {},
   "outputs": [
    {
     "name": "stdout",
     "output_type": "stream",
     "text": [
      "           username   twitter_id                     domain  \\\n",
      "17        RachelZoe   30704824.0           thezoereport.com   \n",
      "21     LaurenConrad   34097876.0           laurenconrad.com   \n",
      "0       jimmyfallon   15485441.0            tonightshow.com   \n",
      "1            iamsrk  101311381.0                        NaN   \n",
      "19        ochocinco   40519997.0             ocnnreport.com   \n",
      "3           Zendaya  154280902.0              crowdrise.com   \n",
      "2   kourtneykardash   23617610.0                        NaN   \n",
      "16            notch   63485337.0                  notch.net   \n",
      "4    ShraddhaKapoor  317034396.0                        NaN   \n",
      "5        LunaMaya26  128841198.0            itslunamaya.com   \n",
      "8               Tip  117778179.0        grandhustlegang.com   \n",
      "6   victoriabeckham  185314895.0        victoriabeckham.com   \n",
      "7     cesc4official  185827887.0           cescfabregas.com   \n",
      "11    bipsluvurself  107318424.0         bipashabasunet.com   \n",
      "12        simonpegg   18713254.0              simonpegg.net   \n",
      "13       lenadunham   31080039.0            lennyletter.com   \n",
      "15    mynameisrossa  180396151.0           pecintarossa.com   \n",
      "10   VanessaHudgens  274119641.0  vanessahudgens.tumblr.com   \n",
      "9    AnnaKendrick47   59949396.0                        NaN   \n",
      "20        shaymitch   21219827.0           us.macmillan.com   \n",
      "\n",
      "                   name  followers_count  tweet_count      Keyword  Frequency  \\\n",
      "17           Rachel Zoe        3539896.0      16526.0  nail polish          2   \n",
      "21        Lauren Conrad        2886047.0       7160.0  nail polish          2   \n",
      "0          jimmy fallon       51467139.0      14098.0  nail polish          1   \n",
      "1        Shah Rukh Khan       42481882.0      58278.0  nail polish          1   \n",
      "19         Chad Johnson        3271373.0     175569.0  nail polish          1   \n",
      "3               Zendaya       20737698.0      58446.0  nail polish          1   \n",
      "2   Kourtney Kardashian       26478393.0      14264.0  nail polish          1   \n",
      "16       Markus Persson        3656027.0      90024.0  nail polish          1   \n",
      "4       Shraddha Kapoor       14323785.0       5720.0  nail polish          1   \n",
      "5             luna maya       11943877.0      15870.0  nail polish          1   \n",
      "8                  T.I.        9177082.0      19829.0  nail polish          1   \n",
      "6      Victoria Beckham       11878971.0       4024.0  nail polish          1   \n",
      "7   Cesc Fàbregas Soler       10017890.0       5803.0  nail polish          1   \n",
      "11         Bipasha Basu        6662381.0      12252.0  nail polish          1   \n",
      "12            Pegg News        5654126.0      16212.0  nail polish          1   \n",
      "13          Lena Dunham        5253586.0      14783.0  nail polish          1   \n",
      "15       Rossa Roslaina        4193975.0      18746.0  nail polish          1   \n",
      "10      Vanessa Hudgens        6687740.0       4586.0  nail polish          1   \n",
      "9         Anna Kendrick        7001752.0       2470.0  nail polish          1   \n",
      "20        Shay Mitchell        3007200.0      23239.0  nail polish          1   \n",
      "\n",
      "                                       SelectedTweets  normalized_freq  \\\n",
      "17  best glitter nail polish party season popular ...              1.0   \n",
      "21  save drama nail polish one color nail polish f...              1.0   \n",
      "0   fun pumpkin carving fact get sharpie permanent...              0.0   \n",
      "1                thank u next film trying nail polish              0.0   \n",
      "19                             wear black nail polish              0.0   \n",
      "3   rt mrjerometrammel one noticed beyonce went ch...              0.0   \n",
      "2   happy national nail polish day take quiz see c...              0.0   \n",
      "16      techconnectify started using nail polish mine              0.0   \n",
      "4   arre baapu nail polish toh chhod dete disneypl...              0.0   \n",
      "5   rt lunahabit using harsh acetone solution look...              0.0   \n",
      "8   baby bos heiressdharris already bringing bankr...              0.0   \n",
      "6   rt britishvogue victoriabeckham teamed nailsin...              0.0   \n",
      "7   nail polish amp lipstick starting early allund...              0.0   \n",
      "11  thank suzannedadhich sending cool holographic ...              0.0   \n",
      "12  think going go camel toe libtechnologies xc2 t...              0.0   \n",
      "13  emilygould happy report people comment picture...              0.0   \n",
      "15  makasiii kirimannya semua fav aku dari mulai p...              0.0   \n",
      "10  introducing perfect nail polish shade zodiac sign              0.0   \n",
      "9   also picking last blue nail polish get event g...              0.0   \n",
      "20  building inspired nail polish change pastel sh...              0.0   \n",
      "\n",
      "    normalized_followers  normalized_tweets  weighted_sum  \n",
      "17              0.023054           0.088563      0.524629  \n",
      "21              0.009726           0.034889      0.509896  \n",
      "0               1.000000           0.074649      0.314930  \n",
      "1               0.816845           0.327834      0.310620  \n",
      "19              0.017581           1.000000      0.205274  \n",
      "3               0.373613           0.328796      0.177843  \n",
      "2               0.490631           0.075600      0.162309  \n",
      "16              0.025422           0.509762      0.109579  \n",
      "4               0.242872           0.026637      0.078189  \n",
      "5               0.194361           0.084804      0.075269  \n",
      "8               0.137962           0.107492      0.062887  \n",
      "6               0.193038           0.016917      0.061295  \n",
      "7               0.155101           0.027112      0.051953  \n",
      "11              0.086703           0.064070      0.038825  \n",
      "12              0.066151           0.086764      0.037198  \n",
      "13              0.057986           0.078574      0.033111  \n",
      "15              0.036387           0.101285      0.031173  \n",
      "10              0.087220           0.020138      0.030194  \n",
      "9               0.093621           0.008012      0.029689  \n",
      "20              0.012196           0.127034      0.029066  \n"
     ]
    }
   ],
   "source": [
    "# Normalize the metrics (Freq, followers_count, tweet_count)\n",
    "merged_df['normalized_freq'] = (merged_df['Frequency'] - merged_df['Frequency'].min()) / (merged_df['Frequency'].max() - merged_df['Frequency'].min())\n",
    "merged_df['normalized_followers'] = (merged_df['followers_count'] - merged_df['followers_count'].min()) / (merged_df['followers_count'].max() - merged_df['followers_count'].min())\n",
    "merged_df['normalized_tweets'] = (merged_df['tweet_count'] - merged_df['tweet_count'].min()) / (merged_df['tweet_count'].max() - merged_df['tweet_count'].min())\n",
    "\n",
    "# Define weights for each normalized metric\n",
    "weight_freq = 0.5\n",
    "weight_followers = 0.3\n",
    "weight_tweets = 0.2\n",
    "\n",
    "# Calculate the weighted sum for each celebrity\n",
    "merged_df['weighted_sum'] = (\n",
    "    weight_freq * merged_df['normalized_freq'] +\n",
    "    weight_followers * merged_df['normalized_followers'] +\n",
    "    weight_tweets * merged_df['normalized_tweets']\n",
    ")\n",
    "\n",
    "# Sort the dataframe based on the single metric\n",
    "sorted_df = merged_df.sort_values(by='weighted_sum', ascending=False)\n",
    "\n",
    "# Select the top 10-20 celebrities\n",
    "top_10_to_20_celebrities = sorted_df.head(20)\n",
    "\n",
    "# Print or further process the top 10-20 celebrities dataframe\n",
    "print(top_10_to_20_celebrities)\n",
    "\n",
    "\n"
   ]
  },
  {
   "cell_type": "code",
   "execution_count": 86,
   "metadata": {},
   "outputs": [
    {
     "data": {
      "text/html": [
       "<div>\n",
       "<style scoped>\n",
       "    .dataframe tbody tr th:only-of-type {\n",
       "        vertical-align: middle;\n",
       "    }\n",
       "\n",
       "    .dataframe tbody tr th {\n",
       "        vertical-align: top;\n",
       "    }\n",
       "\n",
       "    .dataframe thead th {\n",
       "        text-align: right;\n",
       "    }\n",
       "</style>\n",
       "<table border=\"1\" class=\"dataframe\">\n",
       "  <thead>\n",
       "    <tr style=\"text-align: right;\">\n",
       "      <th></th>\n",
       "      <th>username</th>\n",
       "      <th>twitter_id</th>\n",
       "      <th>domain</th>\n",
       "      <th>name</th>\n",
       "      <th>followers_count</th>\n",
       "      <th>tweet_count</th>\n",
       "      <th>Keyword</th>\n",
       "      <th>Frequency</th>\n",
       "      <th>SelectedTweets</th>\n",
       "      <th>normalized_freq</th>\n",
       "      <th>normalized_followers</th>\n",
       "      <th>normalized_tweets</th>\n",
       "      <th>weighted_sum</th>\n",
       "    </tr>\n",
       "  </thead>\n",
       "  <tbody>\n",
       "    <tr>\n",
       "      <th>17</th>\n",
       "      <td>RachelZoe</td>\n",
       "      <td>30704824.0</td>\n",
       "      <td>thezoereport.com</td>\n",
       "      <td>Rachel Zoe</td>\n",
       "      <td>3539896.0</td>\n",
       "      <td>16526.0</td>\n",
       "      <td>nail polish</td>\n",
       "      <td>2</td>\n",
       "      <td>best glitter nail polish party season popular ...</td>\n",
       "      <td>1.0</td>\n",
       "      <td>0.023054</td>\n",
       "      <td>0.088563</td>\n",
       "      <td>0.524629</td>\n",
       "    </tr>\n",
       "    <tr>\n",
       "      <th>21</th>\n",
       "      <td>LaurenConrad</td>\n",
       "      <td>34097876.0</td>\n",
       "      <td>laurenconrad.com</td>\n",
       "      <td>Lauren Conrad</td>\n",
       "      <td>2886047.0</td>\n",
       "      <td>7160.0</td>\n",
       "      <td>nail polish</td>\n",
       "      <td>2</td>\n",
       "      <td>save drama nail polish one color nail polish f...</td>\n",
       "      <td>1.0</td>\n",
       "      <td>0.009726</td>\n",
       "      <td>0.034889</td>\n",
       "      <td>0.509896</td>\n",
       "    </tr>\n",
       "    <tr>\n",
       "      <th>0</th>\n",
       "      <td>jimmyfallon</td>\n",
       "      <td>15485441.0</td>\n",
       "      <td>tonightshow.com</td>\n",
       "      <td>jimmy fallon</td>\n",
       "      <td>51467139.0</td>\n",
       "      <td>14098.0</td>\n",
       "      <td>nail polish</td>\n",
       "      <td>1</td>\n",
       "      <td>fun pumpkin carving fact get sharpie permanent...</td>\n",
       "      <td>0.0</td>\n",
       "      <td>1.000000</td>\n",
       "      <td>0.074649</td>\n",
       "      <td>0.314930</td>\n",
       "    </tr>\n",
       "    <tr>\n",
       "      <th>1</th>\n",
       "      <td>iamsrk</td>\n",
       "      <td>101311381.0</td>\n",
       "      <td>NaN</td>\n",
       "      <td>Shah Rukh Khan</td>\n",
       "      <td>42481882.0</td>\n",
       "      <td>58278.0</td>\n",
       "      <td>nail polish</td>\n",
       "      <td>1</td>\n",
       "      <td>thank u next film trying nail polish</td>\n",
       "      <td>0.0</td>\n",
       "      <td>0.816845</td>\n",
       "      <td>0.327834</td>\n",
       "      <td>0.310620</td>\n",
       "    </tr>\n",
       "    <tr>\n",
       "      <th>19</th>\n",
       "      <td>ochocinco</td>\n",
       "      <td>40519997.0</td>\n",
       "      <td>ocnnreport.com</td>\n",
       "      <td>Chad Johnson</td>\n",
       "      <td>3271373.0</td>\n",
       "      <td>175569.0</td>\n",
       "      <td>nail polish</td>\n",
       "      <td>1</td>\n",
       "      <td>wear black nail polish</td>\n",
       "      <td>0.0</td>\n",
       "      <td>0.017581</td>\n",
       "      <td>1.000000</td>\n",
       "      <td>0.205274</td>\n",
       "    </tr>\n",
       "    <tr>\n",
       "      <th>3</th>\n",
       "      <td>Zendaya</td>\n",
       "      <td>154280902.0</td>\n",
       "      <td>crowdrise.com</td>\n",
       "      <td>Zendaya</td>\n",
       "      <td>20737698.0</td>\n",
       "      <td>58446.0</td>\n",
       "      <td>nail polish</td>\n",
       "      <td>1</td>\n",
       "      <td>rt mrjerometrammel one noticed beyonce went ch...</td>\n",
       "      <td>0.0</td>\n",
       "      <td>0.373613</td>\n",
       "      <td>0.328796</td>\n",
       "      <td>0.177843</td>\n",
       "    </tr>\n",
       "    <tr>\n",
       "      <th>2</th>\n",
       "      <td>kourtneykardash</td>\n",
       "      <td>23617610.0</td>\n",
       "      <td>NaN</td>\n",
       "      <td>Kourtney Kardashian</td>\n",
       "      <td>26478393.0</td>\n",
       "      <td>14264.0</td>\n",
       "      <td>nail polish</td>\n",
       "      <td>1</td>\n",
       "      <td>happy national nail polish day take quiz see c...</td>\n",
       "      <td>0.0</td>\n",
       "      <td>0.490631</td>\n",
       "      <td>0.075600</td>\n",
       "      <td>0.162309</td>\n",
       "    </tr>\n",
       "    <tr>\n",
       "      <th>16</th>\n",
       "      <td>notch</td>\n",
       "      <td>63485337.0</td>\n",
       "      <td>notch.net</td>\n",
       "      <td>Markus Persson</td>\n",
       "      <td>3656027.0</td>\n",
       "      <td>90024.0</td>\n",
       "      <td>nail polish</td>\n",
       "      <td>1</td>\n",
       "      <td>techconnectify started using nail polish mine</td>\n",
       "      <td>0.0</td>\n",
       "      <td>0.025422</td>\n",
       "      <td>0.509762</td>\n",
       "      <td>0.109579</td>\n",
       "    </tr>\n",
       "    <tr>\n",
       "      <th>4</th>\n",
       "      <td>ShraddhaKapoor</td>\n",
       "      <td>317034396.0</td>\n",
       "      <td>NaN</td>\n",
       "      <td>Shraddha Kapoor</td>\n",
       "      <td>14323785.0</td>\n",
       "      <td>5720.0</td>\n",
       "      <td>nail polish</td>\n",
       "      <td>1</td>\n",
       "      <td>arre baapu nail polish toh chhod dete disneypl...</td>\n",
       "      <td>0.0</td>\n",
       "      <td>0.242872</td>\n",
       "      <td>0.026637</td>\n",
       "      <td>0.078189</td>\n",
       "    </tr>\n",
       "    <tr>\n",
       "      <th>5</th>\n",
       "      <td>LunaMaya26</td>\n",
       "      <td>128841198.0</td>\n",
       "      <td>itslunamaya.com</td>\n",
       "      <td>luna maya</td>\n",
       "      <td>11943877.0</td>\n",
       "      <td>15870.0</td>\n",
       "      <td>nail polish</td>\n",
       "      <td>1</td>\n",
       "      <td>rt lunahabit using harsh acetone solution look...</td>\n",
       "      <td>0.0</td>\n",
       "      <td>0.194361</td>\n",
       "      <td>0.084804</td>\n",
       "      <td>0.075269</td>\n",
       "    </tr>\n",
       "    <tr>\n",
       "      <th>8</th>\n",
       "      <td>Tip</td>\n",
       "      <td>117778179.0</td>\n",
       "      <td>grandhustlegang.com</td>\n",
       "      <td>T.I.</td>\n",
       "      <td>9177082.0</td>\n",
       "      <td>19829.0</td>\n",
       "      <td>nail polish</td>\n",
       "      <td>1</td>\n",
       "      <td>baby bos heiressdharris already bringing bankr...</td>\n",
       "      <td>0.0</td>\n",
       "      <td>0.137962</td>\n",
       "      <td>0.107492</td>\n",
       "      <td>0.062887</td>\n",
       "    </tr>\n",
       "    <tr>\n",
       "      <th>6</th>\n",
       "      <td>victoriabeckham</td>\n",
       "      <td>185314895.0</td>\n",
       "      <td>victoriabeckham.com</td>\n",
       "      <td>Victoria Beckham</td>\n",
       "      <td>11878971.0</td>\n",
       "      <td>4024.0</td>\n",
       "      <td>nail polish</td>\n",
       "      <td>1</td>\n",
       "      <td>rt britishvogue victoriabeckham teamed nailsin...</td>\n",
       "      <td>0.0</td>\n",
       "      <td>0.193038</td>\n",
       "      <td>0.016917</td>\n",
       "      <td>0.061295</td>\n",
       "    </tr>\n",
       "    <tr>\n",
       "      <th>7</th>\n",
       "      <td>cesc4official</td>\n",
       "      <td>185827887.0</td>\n",
       "      <td>cescfabregas.com</td>\n",
       "      <td>Cesc Fàbregas Soler</td>\n",
       "      <td>10017890.0</td>\n",
       "      <td>5803.0</td>\n",
       "      <td>nail polish</td>\n",
       "      <td>1</td>\n",
       "      <td>nail polish amp lipstick starting early allund...</td>\n",
       "      <td>0.0</td>\n",
       "      <td>0.155101</td>\n",
       "      <td>0.027112</td>\n",
       "      <td>0.051953</td>\n",
       "    </tr>\n",
       "    <tr>\n",
       "      <th>11</th>\n",
       "      <td>bipsluvurself</td>\n",
       "      <td>107318424.0</td>\n",
       "      <td>bipashabasunet.com</td>\n",
       "      <td>Bipasha Basu</td>\n",
       "      <td>6662381.0</td>\n",
       "      <td>12252.0</td>\n",
       "      <td>nail polish</td>\n",
       "      <td>1</td>\n",
       "      <td>thank suzannedadhich sending cool holographic ...</td>\n",
       "      <td>0.0</td>\n",
       "      <td>0.086703</td>\n",
       "      <td>0.064070</td>\n",
       "      <td>0.038825</td>\n",
       "    </tr>\n",
       "    <tr>\n",
       "      <th>12</th>\n",
       "      <td>simonpegg</td>\n",
       "      <td>18713254.0</td>\n",
       "      <td>simonpegg.net</td>\n",
       "      <td>Pegg News</td>\n",
       "      <td>5654126.0</td>\n",
       "      <td>16212.0</td>\n",
       "      <td>nail polish</td>\n",
       "      <td>1</td>\n",
       "      <td>think going go camel toe libtechnologies xc2 t...</td>\n",
       "      <td>0.0</td>\n",
       "      <td>0.066151</td>\n",
       "      <td>0.086764</td>\n",
       "      <td>0.037198</td>\n",
       "    </tr>\n",
       "    <tr>\n",
       "      <th>13</th>\n",
       "      <td>lenadunham</td>\n",
       "      <td>31080039.0</td>\n",
       "      <td>lennyletter.com</td>\n",
       "      <td>Lena Dunham</td>\n",
       "      <td>5253586.0</td>\n",
       "      <td>14783.0</td>\n",
       "      <td>nail polish</td>\n",
       "      <td>1</td>\n",
       "      <td>emilygould happy report people comment picture...</td>\n",
       "      <td>0.0</td>\n",
       "      <td>0.057986</td>\n",
       "      <td>0.078574</td>\n",
       "      <td>0.033111</td>\n",
       "    </tr>\n",
       "    <tr>\n",
       "      <th>15</th>\n",
       "      <td>mynameisrossa</td>\n",
       "      <td>180396151.0</td>\n",
       "      <td>pecintarossa.com</td>\n",
       "      <td>Rossa Roslaina</td>\n",
       "      <td>4193975.0</td>\n",
       "      <td>18746.0</td>\n",
       "      <td>nail polish</td>\n",
       "      <td>1</td>\n",
       "      <td>makasiii kirimannya semua fav aku dari mulai p...</td>\n",
       "      <td>0.0</td>\n",
       "      <td>0.036387</td>\n",
       "      <td>0.101285</td>\n",
       "      <td>0.031173</td>\n",
       "    </tr>\n",
       "    <tr>\n",
       "      <th>10</th>\n",
       "      <td>VanessaHudgens</td>\n",
       "      <td>274119641.0</td>\n",
       "      <td>vanessahudgens.tumblr.com</td>\n",
       "      <td>Vanessa Hudgens</td>\n",
       "      <td>6687740.0</td>\n",
       "      <td>4586.0</td>\n",
       "      <td>nail polish</td>\n",
       "      <td>1</td>\n",
       "      <td>introducing perfect nail polish shade zodiac sign</td>\n",
       "      <td>0.0</td>\n",
       "      <td>0.087220</td>\n",
       "      <td>0.020138</td>\n",
       "      <td>0.030194</td>\n",
       "    </tr>\n",
       "    <tr>\n",
       "      <th>9</th>\n",
       "      <td>AnnaKendrick47</td>\n",
       "      <td>59949396.0</td>\n",
       "      <td>NaN</td>\n",
       "      <td>Anna Kendrick</td>\n",
       "      <td>7001752.0</td>\n",
       "      <td>2470.0</td>\n",
       "      <td>nail polish</td>\n",
       "      <td>1</td>\n",
       "      <td>also picking last blue nail polish get event g...</td>\n",
       "      <td>0.0</td>\n",
       "      <td>0.093621</td>\n",
       "      <td>0.008012</td>\n",
       "      <td>0.029689</td>\n",
       "    </tr>\n",
       "    <tr>\n",
       "      <th>20</th>\n",
       "      <td>shaymitch</td>\n",
       "      <td>21219827.0</td>\n",
       "      <td>us.macmillan.com</td>\n",
       "      <td>Shay Mitchell</td>\n",
       "      <td>3007200.0</td>\n",
       "      <td>23239.0</td>\n",
       "      <td>nail polish</td>\n",
       "      <td>1</td>\n",
       "      <td>building inspired nail polish change pastel sh...</td>\n",
       "      <td>0.0</td>\n",
       "      <td>0.012196</td>\n",
       "      <td>0.127034</td>\n",
       "      <td>0.029066</td>\n",
       "    </tr>\n",
       "  </tbody>\n",
       "</table>\n",
       "</div>"
      ],
      "text/plain": [
       "           username   twitter_id                     domain  \\\n",
       "17        RachelZoe   30704824.0           thezoereport.com   \n",
       "21     LaurenConrad   34097876.0           laurenconrad.com   \n",
       "0       jimmyfallon   15485441.0            tonightshow.com   \n",
       "1            iamsrk  101311381.0                        NaN   \n",
       "19        ochocinco   40519997.0             ocnnreport.com   \n",
       "3           Zendaya  154280902.0              crowdrise.com   \n",
       "2   kourtneykardash   23617610.0                        NaN   \n",
       "16            notch   63485337.0                  notch.net   \n",
       "4    ShraddhaKapoor  317034396.0                        NaN   \n",
       "5        LunaMaya26  128841198.0            itslunamaya.com   \n",
       "8               Tip  117778179.0        grandhustlegang.com   \n",
       "6   victoriabeckham  185314895.0        victoriabeckham.com   \n",
       "7     cesc4official  185827887.0           cescfabregas.com   \n",
       "11    bipsluvurself  107318424.0         bipashabasunet.com   \n",
       "12        simonpegg   18713254.0              simonpegg.net   \n",
       "13       lenadunham   31080039.0            lennyletter.com   \n",
       "15    mynameisrossa  180396151.0           pecintarossa.com   \n",
       "10   VanessaHudgens  274119641.0  vanessahudgens.tumblr.com   \n",
       "9    AnnaKendrick47   59949396.0                        NaN   \n",
       "20        shaymitch   21219827.0           us.macmillan.com   \n",
       "\n",
       "                   name  followers_count  tweet_count      Keyword  Frequency  \\\n",
       "17           Rachel Zoe        3539896.0      16526.0  nail polish          2   \n",
       "21        Lauren Conrad        2886047.0       7160.0  nail polish          2   \n",
       "0          jimmy fallon       51467139.0      14098.0  nail polish          1   \n",
       "1        Shah Rukh Khan       42481882.0      58278.0  nail polish          1   \n",
       "19         Chad Johnson        3271373.0     175569.0  nail polish          1   \n",
       "3               Zendaya       20737698.0      58446.0  nail polish          1   \n",
       "2   Kourtney Kardashian       26478393.0      14264.0  nail polish          1   \n",
       "16       Markus Persson        3656027.0      90024.0  nail polish          1   \n",
       "4       Shraddha Kapoor       14323785.0       5720.0  nail polish          1   \n",
       "5             luna maya       11943877.0      15870.0  nail polish          1   \n",
       "8                  T.I.        9177082.0      19829.0  nail polish          1   \n",
       "6      Victoria Beckham       11878971.0       4024.0  nail polish          1   \n",
       "7   Cesc Fàbregas Soler       10017890.0       5803.0  nail polish          1   \n",
       "11         Bipasha Basu        6662381.0      12252.0  nail polish          1   \n",
       "12            Pegg News        5654126.0      16212.0  nail polish          1   \n",
       "13          Lena Dunham        5253586.0      14783.0  nail polish          1   \n",
       "15       Rossa Roslaina        4193975.0      18746.0  nail polish          1   \n",
       "10      Vanessa Hudgens        6687740.0       4586.0  nail polish          1   \n",
       "9         Anna Kendrick        7001752.0       2470.0  nail polish          1   \n",
       "20        Shay Mitchell        3007200.0      23239.0  nail polish          1   \n",
       "\n",
       "                                       SelectedTweets  normalized_freq  \\\n",
       "17  best glitter nail polish party season popular ...              1.0   \n",
       "21  save drama nail polish one color nail polish f...              1.0   \n",
       "0   fun pumpkin carving fact get sharpie permanent...              0.0   \n",
       "1                thank u next film trying nail polish              0.0   \n",
       "19                             wear black nail polish              0.0   \n",
       "3   rt mrjerometrammel one noticed beyonce went ch...              0.0   \n",
       "2   happy national nail polish day take quiz see c...              0.0   \n",
       "16      techconnectify started using nail polish mine              0.0   \n",
       "4   arre baapu nail polish toh chhod dete disneypl...              0.0   \n",
       "5   rt lunahabit using harsh acetone solution look...              0.0   \n",
       "8   baby bos heiressdharris already bringing bankr...              0.0   \n",
       "6   rt britishvogue victoriabeckham teamed nailsin...              0.0   \n",
       "7   nail polish amp lipstick starting early allund...              0.0   \n",
       "11  thank suzannedadhich sending cool holographic ...              0.0   \n",
       "12  think going go camel toe libtechnologies xc2 t...              0.0   \n",
       "13  emilygould happy report people comment picture...              0.0   \n",
       "15  makasiii kirimannya semua fav aku dari mulai p...              0.0   \n",
       "10  introducing perfect nail polish shade zodiac sign              0.0   \n",
       "9   also picking last blue nail polish get event g...              0.0   \n",
       "20  building inspired nail polish change pastel sh...              0.0   \n",
       "\n",
       "    normalized_followers  normalized_tweets  weighted_sum  \n",
       "17              0.023054           0.088563      0.524629  \n",
       "21              0.009726           0.034889      0.509896  \n",
       "0               1.000000           0.074649      0.314930  \n",
       "1               0.816845           0.327834      0.310620  \n",
       "19              0.017581           1.000000      0.205274  \n",
       "3               0.373613           0.328796      0.177843  \n",
       "2               0.490631           0.075600      0.162309  \n",
       "16              0.025422           0.509762      0.109579  \n",
       "4               0.242872           0.026637      0.078189  \n",
       "5               0.194361           0.084804      0.075269  \n",
       "8               0.137962           0.107492      0.062887  \n",
       "6               0.193038           0.016917      0.061295  \n",
       "7               0.155101           0.027112      0.051953  \n",
       "11              0.086703           0.064070      0.038825  \n",
       "12              0.066151           0.086764      0.037198  \n",
       "13              0.057986           0.078574      0.033111  \n",
       "15              0.036387           0.101285      0.031173  \n",
       "10              0.087220           0.020138      0.030194  \n",
       "9               0.093621           0.008012      0.029689  \n",
       "20              0.012196           0.127034      0.029066  "
      ]
     },
     "execution_count": 86,
     "metadata": {},
     "output_type": "execute_result"
    }
   ],
   "source": [
    "top_10_to_20_celebrities"
   ]
  },
  {
   "cell_type": "code",
   "execution_count": 95,
   "metadata": {},
   "outputs": [
    {
     "data": {
      "application/vnd.plotly.v1+json": {
       "config": {
        "plotlyServerURL": "https://plot.ly"
       },
       "data": [
        {
         "hoverinfo": "text",
         "line": {
          "color": "#888",
          "width": 0.5
         },
         "mode": "lines",
         "text": [
          "Frequency: 2",
          "Frequency: 2",
          "Frequency: 1",
          "Frequency: 1",
          "Frequency: 1",
          "Frequency: 1",
          "Frequency: 1",
          "Frequency: 1",
          "Frequency: 1",
          "Frequency: 1",
          "Frequency: 1",
          "Frequency: 1",
          "Frequency: 1",
          "Frequency: 1",
          "Frequency: 1",
          "Frequency: 1",
          "Frequency: 1",
          "Frequency: 1",
          "Frequency: 1",
          "Frequency: 1"
         ],
         "type": "scatter",
         "x": [
          0.0035569715694206963,
          0.9076262045343063,
          null,
          0.0035569715694206963,
          -0.5509454875757591,
          null,
          0.0035569715694206963,
          -0.8438521772882236,
          null,
          0.0035569715694206963,
          0.5358561975566922,
          null,
          0.0035569715694206963,
          -0.6487775494414051,
          null,
          0.0035569715694206963,
          0.9531061006896006,
          null,
          0.0035569715694206963,
          -0.8796020104984182,
          null,
          0.0035569715694206963,
          -0.20233128880612064,
          null,
          0.0035569715694206963,
          0.03634379719137314,
          null,
          0.0035569715694206963,
          0.590738177985033,
          null,
          0.0035569715694206963,
          -0.6915904265403763,
          null,
          0.0035569715694206963,
          0.21978588369741986,
          null,
          0.0035569715694206963,
          -0.8707410285038281,
          null,
          0.0035569715694206963,
          0.31545155096807986,
          null,
          0.0035569715694206963,
          0.7554078189742555,
          null,
          0.0035569715694206963,
          -0.2372538686034691,
          null,
          0.0035569715694206963,
          0.8593418721045691,
          null,
          0.0035569715694206963,
          -0.2555939835161281,
          null,
          0.0035569715694206963,
          0.9410669027589597,
          null,
          0.0035569715694206963,
          -0.9375936572559812,
          null
         ],
         "y": [
          0.004797442746269802,
          0.33151973837100157,
          null,
          0.004797442746269802,
          -0.8070262298443427,
          null,
          0.004797442746269802,
          0.5503024402672603,
          null,
          0.004797442746269802,
          0.7857852458682828,
          null,
          0.004797442746269802,
          0.8382527763720959,
          null,
          0.004797442746269802,
          -0.3329358551523742,
          null,
          0.004797442746269802,
          -0.3438026389166453,
          null,
          0.004797442746269802,
          0.8184421330876399,
          null,
          0.004797442746269802,
          -0.898024813820644,
          null,
          0.004797442746269802,
          -0.7758750986670847,
          null,
          0.004797442746269802,
          -0.5624425405338325,
          null,
          0.004797442746269802,
          0.9282882754332967,
          null,
          0.004797442746269802,
          0.2622149015821479,
          null,
          0.004797442746269802,
          -0.947475443037061,
          null,
          0.004797442746269802,
          -0.5245153677044966,
          null,
          0.004797442746269802,
          0.9999999999999999,
          null,
          0.004797442746269802,
          0.6360357265413632,
          null,
          0.004797442746269802,
          -0.9389289338335065,
          null,
          0.004797442746269802,
          0.011974507952869225,
          null,
          0.004797442746269802,
          -0.03658626671224026,
          null
         ]
        },
        {
         "hoverinfo": "text",
         "marker": {
          "color": [
           10,
           3539896,
           2886047,
           51467139,
           42481882,
           3271373,
           20737698,
           26478393,
           3656027,
           14323785,
           11943877,
           9177082,
           11878971,
           10017890,
           6662381,
           5654126,
           5253586,
           4193975,
           6687740,
           7001752,
           3007200
          ],
          "colorbar": {
           "thickness": 15,
           "title": {
            "side": "right",
            "text": "Followers Count"
           },
           "xanchor": "left"
          },
          "colorscale": [
           [
            0,
            "rgb(255,255,217)"
           ],
           [
            0.125,
            "rgb(237,248,177)"
           ],
           [
            0.25,
            "rgb(199,233,180)"
           ],
           [
            0.375,
            "rgb(127,205,187)"
           ],
           [
            0.5,
            "rgb(65,182,196)"
           ],
           [
            0.625,
            "rgb(29,145,192)"
           ],
           [
            0.75,
            "rgb(34,94,168)"
           ],
           [
            0.875,
            "rgb(37,52,148)"
           ],
           [
            1,
            "rgb(8,29,88)"
           ]
          ],
          "line": {
           "width": 2
          },
          "reversescale": true,
          "showscale": true,
          "size": 10
         },
         "mode": "markers",
         "text": [
          "Keyword: nail polish",
          "Celebrity: Rachel Zoe<br>Followers Count: 3539896.0<br>Tweet Count: 16526.0",
          "Celebrity: Lauren Conrad<br>Followers Count: 2886047.0<br>Tweet Count: 7160.0",
          "Celebrity: jimmy fallon<br>Followers Count: 51467139.0<br>Tweet Count: 14098.0",
          "Celebrity: Shah Rukh Khan<br>Followers Count: 42481882.0<br>Tweet Count: 58278.0",
          "Celebrity: Chad Johnson<br>Followers Count: 3271373.0<br>Tweet Count: 175569.0",
          "Celebrity: Zendaya<br>Followers Count: 20737698.0<br>Tweet Count: 58446.0",
          "Celebrity: Kourtney Kardashian<br>Followers Count: 26478393.0<br>Tweet Count: 14264.0",
          "Celebrity: Markus Persson<br>Followers Count: 3656027.0<br>Tweet Count: 90024.0",
          "Celebrity: Shraddha Kapoor<br>Followers Count: 14323785.0<br>Tweet Count: 5720.0",
          "Celebrity: luna maya<br>Followers Count: 11943877.0<br>Tweet Count: 15870.0",
          "Celebrity: T.I.<br>Followers Count: 9177082.0<br>Tweet Count: 19829.0",
          "Celebrity: Victoria Beckham<br>Followers Count: 11878971.0<br>Tweet Count: 4024.0",
          "Celebrity: Cesc Fàbregas Soler<br>Followers Count: 10017890.0<br>Tweet Count: 5803.0",
          "Celebrity: Bipasha Basu<br>Followers Count: 6662381.0<br>Tweet Count: 12252.0",
          "Celebrity: Pegg News<br>Followers Count: 5654126.0<br>Tweet Count: 16212.0",
          "Celebrity: Lena Dunham<br>Followers Count: 5253586.0<br>Tweet Count: 14783.0",
          "Celebrity: Rossa Roslaina<br>Followers Count: 4193975.0<br>Tweet Count: 18746.0",
          "Celebrity: Vanessa Hudgens<br>Followers Count: 6687740.0<br>Tweet Count: 4586.0",
          "Celebrity: Anna Kendrick<br>Followers Count: 7001752.0<br>Tweet Count: 2470.0",
          "Celebrity: Shay Mitchell<br>Followers Count: 3007200.0<br>Tweet Count: 23239.0"
         ],
         "type": "scatter",
         "x": [
          0.0035569715694206963,
          0.9076262045343063,
          -0.5509454875757591,
          -0.8438521772882236,
          0.5358561975566922,
          -0.6487775494414051,
          0.9531061006896006,
          -0.8796020104984182,
          -0.20233128880612064,
          0.03634379719137314,
          0.590738177985033,
          -0.6915904265403763,
          0.21978588369741986,
          -0.8707410285038281,
          0.31545155096807986,
          0.7554078189742555,
          -0.2372538686034691,
          0.8593418721045691,
          -0.2555939835161281,
          0.9410669027589597,
          -0.9375936572559812
         ],
         "y": [
          0.004797442746269802,
          0.33151973837100157,
          -0.8070262298443427,
          0.5503024402672603,
          0.7857852458682828,
          0.8382527763720959,
          -0.3329358551523742,
          -0.3438026389166453,
          0.8184421330876399,
          -0.898024813820644,
          -0.7758750986670847,
          -0.5624425405338325,
          0.9282882754332967,
          0.2622149015821479,
          -0.947475443037061,
          -0.5245153677044966,
          0.9999999999999999,
          0.6360357265413632,
          -0.9389289338335065,
          0.011974507952869225,
          -0.03658626671224026
         ]
        }
       ],
       "layout": {
        "annotations": [
         {
          "showarrow": false,
          "text": "",
          "x": 0.005,
          "xref": "paper",
          "y": -0.002,
          "yref": "paper"
         }
        ],
        "hovermode": "closest",
        "margin": {
         "b": 20,
         "l": 5,
         "r": 5,
         "t": 40
        },
        "showlegend": false,
        "template": {
         "data": {
          "bar": [
           {
            "error_x": {
             "color": "#2a3f5f"
            },
            "error_y": {
             "color": "#2a3f5f"
            },
            "marker": {
             "line": {
              "color": "#E5ECF6",
              "width": 0.5
             },
             "pattern": {
              "fillmode": "overlay",
              "size": 10,
              "solidity": 0.2
             }
            },
            "type": "bar"
           }
          ],
          "barpolar": [
           {
            "marker": {
             "line": {
              "color": "#E5ECF6",
              "width": 0.5
             },
             "pattern": {
              "fillmode": "overlay",
              "size": 10,
              "solidity": 0.2
             }
            },
            "type": "barpolar"
           }
          ],
          "carpet": [
           {
            "aaxis": {
             "endlinecolor": "#2a3f5f",
             "gridcolor": "white",
             "linecolor": "white",
             "minorgridcolor": "white",
             "startlinecolor": "#2a3f5f"
            },
            "baxis": {
             "endlinecolor": "#2a3f5f",
             "gridcolor": "white",
             "linecolor": "white",
             "minorgridcolor": "white",
             "startlinecolor": "#2a3f5f"
            },
            "type": "carpet"
           }
          ],
          "choropleth": [
           {
            "colorbar": {
             "outlinewidth": 0,
             "ticks": ""
            },
            "type": "choropleth"
           }
          ],
          "contour": [
           {
            "colorbar": {
             "outlinewidth": 0,
             "ticks": ""
            },
            "colorscale": [
             [
              0,
              "#0d0887"
             ],
             [
              0.1111111111111111,
              "#46039f"
             ],
             [
              0.2222222222222222,
              "#7201a8"
             ],
             [
              0.3333333333333333,
              "#9c179e"
             ],
             [
              0.4444444444444444,
              "#bd3786"
             ],
             [
              0.5555555555555556,
              "#d8576b"
             ],
             [
              0.6666666666666666,
              "#ed7953"
             ],
             [
              0.7777777777777778,
              "#fb9f3a"
             ],
             [
              0.8888888888888888,
              "#fdca26"
             ],
             [
              1,
              "#f0f921"
             ]
            ],
            "type": "contour"
           }
          ],
          "contourcarpet": [
           {
            "colorbar": {
             "outlinewidth": 0,
             "ticks": ""
            },
            "type": "contourcarpet"
           }
          ],
          "heatmap": [
           {
            "colorbar": {
             "outlinewidth": 0,
             "ticks": ""
            },
            "colorscale": [
             [
              0,
              "#0d0887"
             ],
             [
              0.1111111111111111,
              "#46039f"
             ],
             [
              0.2222222222222222,
              "#7201a8"
             ],
             [
              0.3333333333333333,
              "#9c179e"
             ],
             [
              0.4444444444444444,
              "#bd3786"
             ],
             [
              0.5555555555555556,
              "#d8576b"
             ],
             [
              0.6666666666666666,
              "#ed7953"
             ],
             [
              0.7777777777777778,
              "#fb9f3a"
             ],
             [
              0.8888888888888888,
              "#fdca26"
             ],
             [
              1,
              "#f0f921"
             ]
            ],
            "type": "heatmap"
           }
          ],
          "heatmapgl": [
           {
            "colorbar": {
             "outlinewidth": 0,
             "ticks": ""
            },
            "colorscale": [
             [
              0,
              "#0d0887"
             ],
             [
              0.1111111111111111,
              "#46039f"
             ],
             [
              0.2222222222222222,
              "#7201a8"
             ],
             [
              0.3333333333333333,
              "#9c179e"
             ],
             [
              0.4444444444444444,
              "#bd3786"
             ],
             [
              0.5555555555555556,
              "#d8576b"
             ],
             [
              0.6666666666666666,
              "#ed7953"
             ],
             [
              0.7777777777777778,
              "#fb9f3a"
             ],
             [
              0.8888888888888888,
              "#fdca26"
             ],
             [
              1,
              "#f0f921"
             ]
            ],
            "type": "heatmapgl"
           }
          ],
          "histogram": [
           {
            "marker": {
             "pattern": {
              "fillmode": "overlay",
              "size": 10,
              "solidity": 0.2
             }
            },
            "type": "histogram"
           }
          ],
          "histogram2d": [
           {
            "colorbar": {
             "outlinewidth": 0,
             "ticks": ""
            },
            "colorscale": [
             [
              0,
              "#0d0887"
             ],
             [
              0.1111111111111111,
              "#46039f"
             ],
             [
              0.2222222222222222,
              "#7201a8"
             ],
             [
              0.3333333333333333,
              "#9c179e"
             ],
             [
              0.4444444444444444,
              "#bd3786"
             ],
             [
              0.5555555555555556,
              "#d8576b"
             ],
             [
              0.6666666666666666,
              "#ed7953"
             ],
             [
              0.7777777777777778,
              "#fb9f3a"
             ],
             [
              0.8888888888888888,
              "#fdca26"
             ],
             [
              1,
              "#f0f921"
             ]
            ],
            "type": "histogram2d"
           }
          ],
          "histogram2dcontour": [
           {
            "colorbar": {
             "outlinewidth": 0,
             "ticks": ""
            },
            "colorscale": [
             [
              0,
              "#0d0887"
             ],
             [
              0.1111111111111111,
              "#46039f"
             ],
             [
              0.2222222222222222,
              "#7201a8"
             ],
             [
              0.3333333333333333,
              "#9c179e"
             ],
             [
              0.4444444444444444,
              "#bd3786"
             ],
             [
              0.5555555555555556,
              "#d8576b"
             ],
             [
              0.6666666666666666,
              "#ed7953"
             ],
             [
              0.7777777777777778,
              "#fb9f3a"
             ],
             [
              0.8888888888888888,
              "#fdca26"
             ],
             [
              1,
              "#f0f921"
             ]
            ],
            "type": "histogram2dcontour"
           }
          ],
          "mesh3d": [
           {
            "colorbar": {
             "outlinewidth": 0,
             "ticks": ""
            },
            "type": "mesh3d"
           }
          ],
          "parcoords": [
           {
            "line": {
             "colorbar": {
              "outlinewidth": 0,
              "ticks": ""
             }
            },
            "type": "parcoords"
           }
          ],
          "pie": [
           {
            "automargin": true,
            "type": "pie"
           }
          ],
          "scatter": [
           {
            "fillpattern": {
             "fillmode": "overlay",
             "size": 10,
             "solidity": 0.2
            },
            "type": "scatter"
           }
          ],
          "scatter3d": [
           {
            "line": {
             "colorbar": {
              "outlinewidth": 0,
              "ticks": ""
             }
            },
            "marker": {
             "colorbar": {
              "outlinewidth": 0,
              "ticks": ""
             }
            },
            "type": "scatter3d"
           }
          ],
          "scattercarpet": [
           {
            "marker": {
             "colorbar": {
              "outlinewidth": 0,
              "ticks": ""
             }
            },
            "type": "scattercarpet"
           }
          ],
          "scattergeo": [
           {
            "marker": {
             "colorbar": {
              "outlinewidth": 0,
              "ticks": ""
             }
            },
            "type": "scattergeo"
           }
          ],
          "scattergl": [
           {
            "marker": {
             "colorbar": {
              "outlinewidth": 0,
              "ticks": ""
             }
            },
            "type": "scattergl"
           }
          ],
          "scattermapbox": [
           {
            "marker": {
             "colorbar": {
              "outlinewidth": 0,
              "ticks": ""
             }
            },
            "type": "scattermapbox"
           }
          ],
          "scatterpolar": [
           {
            "marker": {
             "colorbar": {
              "outlinewidth": 0,
              "ticks": ""
             }
            },
            "type": "scatterpolar"
           }
          ],
          "scatterpolargl": [
           {
            "marker": {
             "colorbar": {
              "outlinewidth": 0,
              "ticks": ""
             }
            },
            "type": "scatterpolargl"
           }
          ],
          "scatterternary": [
           {
            "marker": {
             "colorbar": {
              "outlinewidth": 0,
              "ticks": ""
             }
            },
            "type": "scatterternary"
           }
          ],
          "surface": [
           {
            "colorbar": {
             "outlinewidth": 0,
             "ticks": ""
            },
            "colorscale": [
             [
              0,
              "#0d0887"
             ],
             [
              0.1111111111111111,
              "#46039f"
             ],
             [
              0.2222222222222222,
              "#7201a8"
             ],
             [
              0.3333333333333333,
              "#9c179e"
             ],
             [
              0.4444444444444444,
              "#bd3786"
             ],
             [
              0.5555555555555556,
              "#d8576b"
             ],
             [
              0.6666666666666666,
              "#ed7953"
             ],
             [
              0.7777777777777778,
              "#fb9f3a"
             ],
             [
              0.8888888888888888,
              "#fdca26"
             ],
             [
              1,
              "#f0f921"
             ]
            ],
            "type": "surface"
           }
          ],
          "table": [
           {
            "cells": {
             "fill": {
              "color": "#EBF0F8"
             },
             "line": {
              "color": "white"
             }
            },
            "header": {
             "fill": {
              "color": "#C8D4E3"
             },
             "line": {
              "color": "white"
             }
            },
            "type": "table"
           }
          ]
         },
         "layout": {
          "annotationdefaults": {
           "arrowcolor": "#2a3f5f",
           "arrowhead": 0,
           "arrowwidth": 1
          },
          "autotypenumbers": "strict",
          "coloraxis": {
           "colorbar": {
            "outlinewidth": 0,
            "ticks": ""
           }
          },
          "colorscale": {
           "diverging": [
            [
             0,
             "#8e0152"
            ],
            [
             0.1,
             "#c51b7d"
            ],
            [
             0.2,
             "#de77ae"
            ],
            [
             0.3,
             "#f1b6da"
            ],
            [
             0.4,
             "#fde0ef"
            ],
            [
             0.5,
             "#f7f7f7"
            ],
            [
             0.6,
             "#e6f5d0"
            ],
            [
             0.7,
             "#b8e186"
            ],
            [
             0.8,
             "#7fbc41"
            ],
            [
             0.9,
             "#4d9221"
            ],
            [
             1,
             "#276419"
            ]
           ],
           "sequential": [
            [
             0,
             "#0d0887"
            ],
            [
             0.1111111111111111,
             "#46039f"
            ],
            [
             0.2222222222222222,
             "#7201a8"
            ],
            [
             0.3333333333333333,
             "#9c179e"
            ],
            [
             0.4444444444444444,
             "#bd3786"
            ],
            [
             0.5555555555555556,
             "#d8576b"
            ],
            [
             0.6666666666666666,
             "#ed7953"
            ],
            [
             0.7777777777777778,
             "#fb9f3a"
            ],
            [
             0.8888888888888888,
             "#fdca26"
            ],
            [
             1,
             "#f0f921"
            ]
           ],
           "sequentialminus": [
            [
             0,
             "#0d0887"
            ],
            [
             0.1111111111111111,
             "#46039f"
            ],
            [
             0.2222222222222222,
             "#7201a8"
            ],
            [
             0.3333333333333333,
             "#9c179e"
            ],
            [
             0.4444444444444444,
             "#bd3786"
            ],
            [
             0.5555555555555556,
             "#d8576b"
            ],
            [
             0.6666666666666666,
             "#ed7953"
            ],
            [
             0.7777777777777778,
             "#fb9f3a"
            ],
            [
             0.8888888888888888,
             "#fdca26"
            ],
            [
             1,
             "#f0f921"
            ]
           ]
          },
          "colorway": [
           "#636efa",
           "#EF553B",
           "#00cc96",
           "#ab63fa",
           "#FFA15A",
           "#19d3f3",
           "#FF6692",
           "#B6E880",
           "#FF97FF",
           "#FECB52"
          ],
          "font": {
           "color": "#2a3f5f"
          },
          "geo": {
           "bgcolor": "white",
           "lakecolor": "white",
           "landcolor": "#E5ECF6",
           "showlakes": true,
           "showland": true,
           "subunitcolor": "white"
          },
          "hoverlabel": {
           "align": "left"
          },
          "hovermode": "closest",
          "mapbox": {
           "style": "light"
          },
          "paper_bgcolor": "white",
          "plot_bgcolor": "#E5ECF6",
          "polar": {
           "angularaxis": {
            "gridcolor": "white",
            "linecolor": "white",
            "ticks": ""
           },
           "bgcolor": "#E5ECF6",
           "radialaxis": {
            "gridcolor": "white",
            "linecolor": "white",
            "ticks": ""
           }
          },
          "scene": {
           "xaxis": {
            "backgroundcolor": "#E5ECF6",
            "gridcolor": "white",
            "gridwidth": 2,
            "linecolor": "white",
            "showbackground": true,
            "ticks": "",
            "zerolinecolor": "white"
           },
           "yaxis": {
            "backgroundcolor": "#E5ECF6",
            "gridcolor": "white",
            "gridwidth": 2,
            "linecolor": "white",
            "showbackground": true,
            "ticks": "",
            "zerolinecolor": "white"
           },
           "zaxis": {
            "backgroundcolor": "#E5ECF6",
            "gridcolor": "white",
            "gridwidth": 2,
            "linecolor": "white",
            "showbackground": true,
            "ticks": "",
            "zerolinecolor": "white"
           }
          },
          "shapedefaults": {
           "line": {
            "color": "#2a3f5f"
           }
          },
          "ternary": {
           "aaxis": {
            "gridcolor": "white",
            "linecolor": "white",
            "ticks": ""
           },
           "baxis": {
            "gridcolor": "white",
            "linecolor": "white",
            "ticks": ""
           },
           "bgcolor": "#E5ECF6",
           "caxis": {
            "gridcolor": "white",
            "linecolor": "white",
            "ticks": ""
           }
          },
          "title": {
           "x": 0.05
          },
          "xaxis": {
           "automargin": true,
           "gridcolor": "white",
           "linecolor": "white",
           "ticks": "",
           "title": {
            "standoff": 15
           },
           "zerolinecolor": "white",
           "zerolinewidth": 2
          },
          "yaxis": {
           "automargin": true,
           "gridcolor": "white",
           "linecolor": "white",
           "ticks": "",
           "title": {
            "standoff": 15
           },
           "zerolinecolor": "white",
           "zerolinewidth": 2
          }
         }
        },
        "title": {
         "font": {
          "size": 16
         },
         "text": "Network Graph"
        },
        "xaxis": {
         "showgrid": false,
         "showticklabels": false,
         "zeroline": false
        },
        "yaxis": {
         "showgrid": false,
         "showticklabels": false,
         "zeroline": false
        }
       }
      }
     },
     "metadata": {},
     "output_type": "display_data"
    }
   ],
   "source": [
    "import networkx as nx\n",
    "import plotly.graph_objects as go\n",
    "\n",
    "# Create a directed graph\n",
    "G = nx.DiGraph()\n",
    "\n",
    "# Add nodes for keywords\n",
    "for keyword in top_10_to_20_celebrities['Keyword'].unique():\n",
    "    G.add_node(keyword, type='keyword')\n",
    "\n",
    "# Add nodes for celebrities and edges with frequency data\n",
    "for index, row in top_10_to_20_celebrities.iterrows():\n",
    "    celeb = row['name']\n",
    "    keyword = row['Keyword']\n",
    "    frequency = row['Frequency']\n",
    "    followers_count = row['followers_count']\n",
    "    tweet_count = row['tweet_count']\n",
    "    \n",
    "    G.add_node(celeb, type='celebrity', followers_count=followers_count, tweet_count=tweet_count)\n",
    "    G.add_edge(keyword, celeb, frequency=frequency)\n",
    "\n",
    "# Define edge labels\n",
    "edge_labels = nx.get_edge_attributes(G, 'frequency')\n",
    "\n",
    "# Draw the graph\n",
    "pos = nx.spring_layout(G, seed=42)  # Positioning nodes\n",
    "edge_trace = go.Scatter(\n",
    "    x=[],\n",
    "    y=[],\n",
    "    line=dict(width=0.5, color='#888'),\n",
    "    hoverinfo='text',\n",
    "    mode='lines',\n",
    "    text=[],\n",
    ")\n",
    "\n",
    "for edge in G.edges():\n",
    "    x0, y0 = pos[edge[0]]\n",
    "    x1, y1 = pos[edge[1]]\n",
    "    edge_trace['x'] += tuple([x0, x1, None])\n",
    "    edge_trace['y'] += tuple([y0, y1, None])\n",
    "    frequency = edge_labels[edge]  # Get frequency from edge attributes\n",
    "    edge_trace['text'] += (f\"Frequency: {frequency}\",)  # Add frequency information as a tuple\n",
    "\n",
    "node_trace = go.Scatter(\n",
    "    x=[],\n",
    "    y=[],\n",
    "    text=[],\n",
    "    mode='markers',\n",
    "    hoverinfo='text',\n",
    "    marker=dict(\n",
    "        showscale=True,\n",
    "        colorscale='YlGnBu',\n",
    "        reversescale=True,\n",
    "        color=[],\n",
    "        size=10,\n",
    "        colorbar=dict(\n",
    "            thickness=15,\n",
    "            title='Followers Count',  # Change color axis label to \"Followers Count\"\n",
    "            xanchor='left',\n",
    "            titleside='right'\n",
    "        ),\n",
    "        line_width=2))\n",
    "\n",
    "for node in G.nodes():\n",
    "    x, y = pos[node]\n",
    "    node_trace['x'] += tuple([x])\n",
    "    node_trace['y'] += tuple([y])\n",
    "    if G.nodes[node]['type'] == 'keyword':\n",
    "        node_trace['marker']['color'] += tuple([10])\n",
    "        node_trace['text'] += tuple([f\"Keyword: {node}\"])\n",
    "    else:\n",
    "        followers_count = G.nodes[node]['followers_count']\n",
    "        tweet_count = G.nodes[node]['tweet_count']\n",
    "        node_trace['marker']['color'] += tuple([followers_count])\n",
    "        node_trace['text'] += tuple([f\"Celebrity: {node}<br>Followers Count: {followers_count}<br>Tweet Count: {tweet_count}\"])\n",
    "\n",
    "fig = go.Figure(data=[edge_trace, node_trace],\n",
    "                layout=go.Layout(\n",
    "                    title='Network Graph',\n",
    "                    titlefont_size=16,\n",
    "                    showlegend=False,\n",
    "                    hovermode='closest',\n",
    "                    margin=dict(b=20, l=5, r=5, t=40),\n",
    "                    annotations=[dict(\n",
    "                        text=\"\",\n",
    "                        showarrow=False,\n",
    "                        xref=\"paper\", yref=\"paper\",\n",
    "                        x=0.005, y=-0.002)],\n",
    "                    xaxis=dict(showgrid=False, zeroline=False, showticklabels=False),\n",
    "                    yaxis=dict(showgrid=False, zeroline=False, showticklabels=False)))\n",
    "fig.show()\n",
    "\n",
    "\n",
    "\n",
    "\n",
    "\n",
    "\n",
    "\n",
    "\n",
    "\n",
    "\n",
    "\n",
    "\n",
    "\n",
    "\n",
    "\n",
    "\n",
    "\n",
    "\n",
    "\n"
   ]
  },
  {
   "cell_type": "code",
   "execution_count": 99,
   "metadata": {},
   "outputs": [
    {
     "data": {
      "image/png": "[encoded data removed]",
      "text/plain": [
       "<Figure size 1600x1000 with 2 Axes>"
      ]
     },
     "metadata": {},
     "output_type": "display_data"
    }
   ],
   "source": [
    "import pandas as pd\n",
    "import matplotlib.pyplot as plt\n",
    "import numpy as np\n",
    "\n",
    "# Assuming 'top_10_to_20_celebrities' is your DataFrame containing the top celebrities\n",
    "# Let's plot a grouped bar chart to compare follower count and tweet count for each celebrity\n",
    "\n",
    "# Selecting the top celebrities\n",
    "top_celebrities = top_10_to_20_celebrities[['name', 'followers_count', 'tweet_count']]\n",
    "\n",
    "# Sorting the celebrities based on follower count (optional)\n",
    "top_celebrities_sorted = top_celebrities.sort_values(by='followers_count', ascending=False)\n",
    "\n",
    "# Setting the positions for the bars\n",
    "positions = np.arange(len(top_celebrities_sorted))\n",
    "\n",
    "# Plotting the grouped bar chart\n",
    "fig, ax1 = plt.subplots(figsize=(16,10))  # Adjusting the figure size for more space\n",
    "\n",
    "# Plotting follower count on primary y-axis\n",
    "ax1.bar(positions - 0.2, top_celebrities_sorted['followers_count'], width=0.4, label='Followers Count', color='skyblue')\n",
    "\n",
    "# Creating a secondary y-axis for tweet count\n",
    "ax2 = ax1.twinx()\n",
    "ax2.bar(positions + 0.2, top_celebrities_sorted['tweet_count'], width=0.4, label='Tweet Count', color='orange')\n",
    "\n",
    "# Setting labels and title\n",
    "ax1.set_xlabel('Celebrities')\n",
    "ax1.set_ylabel('Followers Count', color='skyblue')\n",
    "ax2.set_ylabel('Tweet Count', color='orange')\n",
    "ax1.set_title('Comparison of Follower Count and Tweet Count for Top Celebrities')\n",
    "ax1.set_xticks(positions)\n",
    "ax1.set_xticklabels(top_celebrities_sorted['name'], rotation=45, ha='right')\n",
    "\n",
    "# Displaying legend\n",
    "ax1.legend(loc='upper left')\n",
    "ax2.legend(loc='upper right')\n",
    "\n",
    "plt.tight_layout(pad=4.0)  # Increasing the padding between subplots further\n",
    "\n",
    "plt.show()\n"
   ]
  },
  {
   "cell_type": "code",
   "execution_count": 89,
   "metadata": {},
   "outputs": [
    {
     "data": {
      "image/png": "[encoded data removed]",
      "text/plain": [
       "<Figure size 1000x600 with 1 Axes>"
      ]
     },
     "metadata": {},
     "output_type": "display_data"
    }
   ],
   "source": [
    "import matplotlib.pyplot as plt\n",
    "\n",
    "# Assuming you have a DataFrame named 'top_10_to_20_celebrities' with celebrity names and aggregated metrics\n",
    "\n",
    "# Extracting data\n",
    "celebrities = top_10_to_20_celebrities['username']\n",
    "aggregated_metric = top_10_to_20_celebrities['weighted_sum']  # Replace 'aggregated_metric' with the actual column name\n",
    "\n",
    "# Creating the bar plot\n",
    "plt.figure(figsize=(10, 6))  # Adjust size as needed\n",
    "plt.bar(celebrities, aggregated_metric, color='skyblue')\n",
    "plt.xlabel('Celebrities')\n",
    "plt.ylabel('Weighted Sum')\n",
    "plt.title('Aggregated Metric for Top Celebrities')\n",
    "plt.xticks(rotation=45, ha='right')  # Rotate x-axis labels for better visibility\n",
    "plt.tight_layout()\n",
    "plt.show()\n"
   ]
  },
  {
   "cell_type": "code",
   "execution_count": 106,
   "metadata": {},
   "outputs": [
    {
     "data": {
      "application/vnd.plotly.v1+json": {
       "config": {
        "plotlyServerURL": "https://plot.ly"
       },
       "data": [
        {
         "hole": 0.2,
         "labels": [
          "Frequency",
          "Followers Count",
          "Tweet Count"
         ],
         "type": "pie",
         "values": [
          0.5,
          0.3,
          0.2
         ]
        }
       ],
       "layout": {
        "height": 390,
        "scene": {
         "aspectmode": "cube",
         "camera": {
          "eye": {
           "x": 1.5,
           "y": 1.5,
           "z": 1.5
          }
         }
        },
        "template": {
         "data": {
          "bar": [
           {
            "error_x": {
             "color": "#2a3f5f"
            },
            "error_y": {
             "color": "#2a3f5f"
            },
            "marker": {
             "line": {
              "color": "#E5ECF6",
              "width": 0.5
             },
             "pattern": {
              "fillmode": "overlay",
              "size": 10,
              "solidity": 0.2
             }
            },
            "type": "bar"
           }
          ],
          "barpolar": [
           {
            "marker": {
             "line": {
              "color": "#E5ECF6",
              "width": 0.5
             },
             "pattern": {
              "fillmode": "overlay",
              "size": 10,
              "solidity": 0.2
             }
            },
            "type": "barpolar"
           }
          ],
          "carpet": [
           {
            "aaxis": {
             "endlinecolor": "#2a3f5f",
             "gridcolor": "white",
             "linecolor": "white",
             "minorgridcolor": "white",
             "startlinecolor": "#2a3f5f"
            },
            "baxis": {
             "endlinecolor": "#2a3f5f",
             "gridcolor": "white",
             "linecolor": "white",
             "minorgridcolor": "white",
             "startlinecolor": "#2a3f5f"
            },
            "type": "carpet"
           }
          ],
          "choropleth": [
           {
            "colorbar": {
             "outlinewidth": 0,
             "ticks": ""
            },
            "type": "choropleth"
           }
          ],
          "contour": [
           {
            "colorbar": {
             "outlinewidth": 0,
             "ticks": ""
            },
            "colorscale": [
             [
              0,
              "#0d0887"
             ],
             [
              0.1111111111111111,
              "#46039f"
             ],
             [
              0.2222222222222222,
              "#7201a8"
             ],
             [
              0.3333333333333333,
              "#9c179e"
             ],
             [
              0.4444444444444444,
              "#bd3786"
             ],
             [
              0.5555555555555556,
              "#d8576b"
             ],
             [
              0.6666666666666666,
              "#ed7953"
             ],
             [
              0.7777777777777778,
              "#fb9f3a"
             ],
             [
              0.8888888888888888,
              "#fdca26"
             ],
             [
              1,
              "#f0f921"
             ]
            ],
            "type": "contour"
           }
          ],
          "contourcarpet": [
           {
            "colorbar": {
             "outlinewidth": 0,
             "ticks": ""
            },
            "type": "contourcarpet"
           }
          ],
          "heatmap": [
           {
            "colorbar": {
             "outlinewidth": 0,
             "ticks": ""
            },
            "colorscale": [
             [
              0,
              "#0d0887"
             ],
             [
              0.1111111111111111,
              "#46039f"
             ],
             [
              0.2222222222222222,
              "#7201a8"
             ],
             [
              0.3333333333333333,
              "#9c179e"
             ],
             [
              0.4444444444444444,
              "#bd3786"
             ],
             [
              0.5555555555555556,
              "#d8576b"
             ],
             [
              0.6666666666666666,
              "#ed7953"
             ],
             [
              0.7777777777777778,
              "#fb9f3a"
             ],
             [
              0.8888888888888888,
              "#fdca26"
             ],
             [
              1,
              "#f0f921"
             ]
            ],
            "type": "heatmap"
           }
          ],
          "heatmapgl": [
           {
            "colorbar": {
             "outlinewidth": 0,
             "ticks": ""
            },
            "colorscale": [
             [
              0,
              "#0d0887"
             ],
             [
              0.1111111111111111,
              "#46039f"
             ],
             [
              0.2222222222222222,
              "#7201a8"
             ],
             [
              0.3333333333333333,
              "#9c179e"
             ],
             [
              0.4444444444444444,
              "#bd3786"
             ],
             [
              0.5555555555555556,
              "#d8576b"
             ],
             [
              0.6666666666666666,
              "#ed7953"
             ],
             [
              0.7777777777777778,
              "#fb9f3a"
             ],
             [
              0.8888888888888888,
              "#fdca26"
             ],
             [
              1,
              "#f0f921"
             ]
            ],
            "type": "heatmapgl"
           }
          ],
          "histogram": [
           {
            "marker": {
             "pattern": {
              "fillmode": "overlay",
              "size": 10,
              "solidity": 0.2
             }
            },
            "type": "histogram"
           }
          ],
          "histogram2d": [
           {
            "colorbar": {
             "outlinewidth": 0,
             "ticks": ""
            },
            "colorscale": [
             [
              0,
              "#0d0887"
             ],
             [
              0.1111111111111111,
              "#46039f"
             ],
             [
              0.2222222222222222,
              "#7201a8"
             ],
             [
              0.3333333333333333,
              "#9c179e"
             ],
             [
              0.4444444444444444,
              "#bd3786"
             ],
             [
              0.5555555555555556,
              "#d8576b"
             ],
             [
              0.6666666666666666,
              "#ed7953"
             ],
             [
              0.7777777777777778,
              "#fb9f3a"
             ],
             [
              0.8888888888888888,
              "#fdca26"
             ],
             [
              1,
              "#f0f921"
             ]
            ],
            "type": "histogram2d"
           }
          ],
          "histogram2dcontour": [
           {
            "colorbar": {
             "outlinewidth": 0,
             "ticks": ""
            },
            "colorscale": [
             [
              0,
              "#0d0887"
             ],
             [
              0.1111111111111111,
              "#46039f"
             ],
             [
              0.2222222222222222,
              "#7201a8"
             ],
             [
              0.3333333333333333,
              "#9c179e"
             ],
             [
              0.4444444444444444,
              "#bd3786"
             ],
             [
              0.5555555555555556,
              "#d8576b"
             ],
             [
              0.6666666666666666,
              "#ed7953"
             ],
             [
              0.7777777777777778,
              "#fb9f3a"
             ],
             [
              0.8888888888888888,
              "#fdca26"
             ],
             [
              1,
              "#f0f921"
             ]
            ],
            "type": "histogram2dcontour"
           }
          ],
          "mesh3d": [
           {
            "colorbar": {
             "outlinewidth": 0,
             "ticks": ""
            },
            "type": "mesh3d"
           }
          ],
          "parcoords": [
           {
            "line": {
             "colorbar": {
              "outlinewidth": 0,
              "ticks": ""
             }
            },
            "type": "parcoords"
           }
          ],
          "pie": [
           {
            "automargin": true,
            "type": "pie"
           }
          ],
          "scatter": [
           {
            "fillpattern": {
             "fillmode": "overlay",
             "size": 10,
             "solidity": 0.2
            },
            "type": "scatter"
           }
          ],
          "scatter3d": [
           {
            "line": {
             "colorbar": {
              "outlinewidth": 0,
              "ticks": ""
             }
            },
            "marker": {
             "colorbar": {
              "outlinewidth": 0,
              "ticks": ""
             }
            },
            "type": "scatter3d"
           }
          ],
          "scattercarpet": [
           {
            "marker": {
             "colorbar": {
              "outlinewidth": 0,
              "ticks": ""
             }
            },
            "type": "scattercarpet"
           }
          ],
          "scattergeo": [
           {
            "marker": {
             "colorbar": {
              "outlinewidth": 0,
              "ticks": ""
             }
            },
            "type": "scattergeo"
           }
          ],
          "scattergl": [
           {
            "marker": {
             "colorbar": {
              "outlinewidth": 0,
              "ticks": ""
             }
            },
            "type": "scattergl"
           }
          ],
          "scattermapbox": [
           {
            "marker": {
             "colorbar": {
              "outlinewidth": 0,
              "ticks": ""
             }
            },
            "type": "scattermapbox"
           }
          ],
          "scatterpolar": [
           {
            "marker": {
             "colorbar": {
              "outlinewidth": 0,
              "ticks": ""
             }
            },
            "type": "scatterpolar"
           }
          ],
          "scatterpolargl": [
           {
            "marker": {
             "colorbar": {
              "outlinewidth": 0,
              "ticks": ""
             }
            },
            "type": "scatterpolargl"
           }
          ],
          "scatterternary": [
           {
            "marker": {
             "colorbar": {
              "outlinewidth": 0,
              "ticks": ""
             }
            },
            "type": "scatterternary"
           }
          ],
          "surface": [
           {
            "colorbar": {
             "outlinewidth": 0,
             "ticks": ""
            },
            "colorscale": [
             [
              0,
              "#0d0887"
             ],
             [
              0.1111111111111111,
              "#46039f"
             ],
             [
              0.2222222222222222,
              "#7201a8"
             ],
             [
              0.3333333333333333,
              "#9c179e"
             ],
             [
              0.4444444444444444,
              "#bd3786"
             ],
             [
              0.5555555555555556,
              "#d8576b"
             ],
             [
              0.6666666666666666,
              "#ed7953"
             ],
             [
              0.7777777777777778,
              "#fb9f3a"
             ],
             [
              0.8888888888888888,
              "#fdca26"
             ],
             [
              1,
              "#f0f921"
             ]
            ],
            "type": "surface"
           }
          ],
          "table": [
           {
            "cells": {
             "fill": {
              "color": "#EBF0F8"
             },
             "line": {
              "color": "white"
             }
            },
            "header": {
             "fill": {
              "color": "#C8D4E3"
             },
             "line": {
              "color": "white"
             }
            },
            "type": "table"
           }
          ]
         },
         "layout": {
          "annotationdefaults": {
           "arrowcolor": "#2a3f5f",
           "arrowhead": 0,
           "arrowwidth": 1
          },
          "autotypenumbers": "strict",
          "coloraxis": {
           "colorbar": {
            "outlinewidth": 0,
            "ticks": ""
           }
          },
          "colorscale": {
           "diverging": [
            [
             0,
             "#8e0152"
            ],
            [
             0.1,
             "#c51b7d"
            ],
            [
             0.2,
             "#de77ae"
            ],
            [
             0.3,
             "#f1b6da"
            ],
            [
             0.4,
             "#fde0ef"
            ],
            [
             0.5,
             "#f7f7f7"
            ],
            [
             0.6,
             "#e6f5d0"
            ],
            [
             0.7,
             "#b8e186"
            ],
            [
             0.8,
             "#7fbc41"
            ],
            [
             0.9,
             "#4d9221"
            ],
            [
             1,
             "#276419"
            ]
           ],
           "sequential": [
            [
             0,
             "#0d0887"
            ],
            [
             0.1111111111111111,
             "#46039f"
            ],
            [
             0.2222222222222222,
             "#7201a8"
            ],
            [
             0.3333333333333333,
             "#9c179e"
            ],
            [
             0.4444444444444444,
             "#bd3786"
            ],
            [
             0.5555555555555556,
             "#d8576b"
            ],
            [
             0.6666666666666666,
             "#ed7953"
            ],
            [
             0.7777777777777778,
             "#fb9f3a"
            ],
            [
             0.8888888888888888,
             "#fdca26"
            ],
            [
             1,
             "#f0f921"
            ]
           ],
           "sequentialminus": [
            [
             0,
             "#0d0887"
            ],
            [
             0.1111111111111111,
             "#46039f"
            ],
            [
             0.2222222222222222,
             "#7201a8"
            ],
            [
             0.3333333333333333,
             "#9c179e"
            ],
            [
             0.4444444444444444,
             "#bd3786"
            ],
            [
             0.5555555555555556,
             "#d8576b"
            ],
            [
             0.6666666666666666,
             "#ed7953"
            ],
            [
             0.7777777777777778,
             "#fb9f3a"
            ],
            [
             0.8888888888888888,
             "#fdca26"
            ],
            [
             1,
             "#f0f921"
            ]
           ]
          },
          "colorway": [
           "#636efa",
           "#EF553B",
           "#00cc96",
           "#ab63fa",
           "#FFA15A",
           "#19d3f3",
           "#FF6692",
           "#B6E880",
           "#FF97FF",
           "#FECB52"
          ],
          "font": {
           "color": "#2a3f5f"
          },
          "geo": {
           "bgcolor": "white",
           "lakecolor": "white",
           "landcolor": "#E5ECF6",
           "showlakes": true,
           "showland": true,
           "subunitcolor": "white"
          },
          "hoverlabel": {
           "align": "left"
          },
          "hovermode": "closest",
          "mapbox": {
           "style": "light"
          },
          "paper_bgcolor": "white",
          "plot_bgcolor": "#E5ECF6",
          "polar": {
           "angularaxis": {
            "gridcolor": "white",
            "linecolor": "white",
            "ticks": ""
           },
           "bgcolor": "#E5ECF6",
           "radialaxis": {
            "gridcolor": "white",
            "linecolor": "white",
            "ticks": ""
           }
          },
          "scene": {
           "xaxis": {
            "backgroundcolor": "#E5ECF6",
            "gridcolor": "white",
            "gridwidth": 2,
            "linecolor": "white",
            "showbackground": true,
            "ticks": "",
            "zerolinecolor": "white"
           },
           "yaxis": {
            "backgroundcolor": "#E5ECF6",
            "gridcolor": "white",
            "gridwidth": 2,
            "linecolor": "white",
            "showbackground": true,
            "ticks": "",
            "zerolinecolor": "white"
           },
           "zaxis": {
            "backgroundcolor": "#E5ECF6",
            "gridcolor": "white",
            "gridwidth": 2,
            "linecolor": "white",
            "showbackground": true,
            "ticks": "",
            "zerolinecolor": "white"
           }
          },
          "shapedefaults": {
           "line": {
            "color": "#2a3f5f"
           }
          },
          "ternary": {
           "aaxis": {
            "gridcolor": "white",
            "linecolor": "white",
            "ticks": ""
           },
           "baxis": {
            "gridcolor": "white",
            "linecolor": "white",
            "ticks": ""
           },
           "bgcolor": "#E5ECF6",
           "caxis": {
            "gridcolor": "white",
            "linecolor": "white",
            "ticks": ""
           }
          },
          "title": {
           "x": 0.05
          },
          "xaxis": {
           "automargin": true,
           "gridcolor": "white",
           "linecolor": "white",
           "ticks": "",
           "title": {
            "standoff": 15
           },
           "zerolinecolor": "white",
           "zerolinewidth": 2
          },
          "yaxis": {
           "automargin": true,
           "gridcolor": "white",
           "linecolor": "white",
           "ticks": "",
           "title": {
            "standoff": 15
           },
           "zerolinecolor": "white",
           "zerolinewidth": 2
          }
         }
        },
        "title": {
         "text": "Division of Parameters for Weighted Sum Calculation"
        },
        "width": 640
       }
      }
     },
     "metadata": {},
     "output_type": "display_data"
    }
   ],
   "source": [
    "import plotly.graph_objects as go\n",
    "\n",
    "# Define weights for each parameter\n",
    "weights = {\n",
    "    'Frequency': 0.5,\n",
    "    'Followers Count': 0.3,\n",
    "    'Tweet Count': 0.2\n",
    "}\n",
    "\n",
    "# Define data for the pie chart\n",
    "labels = list(weights.keys())\n",
    "values = list(weights.values())\n",
    "\n",
    "# Create a 3D pie chart\n",
    "fig = go.Figure(data=[go.Pie(labels=labels, values=values, hole=0.2)])\n",
    "\n",
    "# Update layout for 3D effect and size\n",
    "fig.update_layout(title='Division of Parameters for Weighted Sum Calculation',\n",
    "                  width=0.8 * 800,  # Adjust width as needed\n",
    "                  height=0.65 * 600,  # Adjust height as needed\n",
    "                  scene=dict(\n",
    "                      aspectmode='cube',\n",
    "                      camera=dict(\n",
    "                          eye=dict(x=1.5, y=1.5, z=1.5)\n",
    "                      )\n",
    "                  ))\n",
    "\n",
    "# Show the plot\n",
    "fig.show()\n"
   ]
  }
 ],
 "metadata": {
  "kernelspec": {
   "display_name": "base",
   "language": "python",
   "name": "python3"
  },
  "language_info": {
   "codemirror_mode": {
    "name": "ipython",
    "version": 3
   },
   "file_extension": ".py",
   "mimetype": "text/x-python",
   "name": "python",
   "nbconvert_exporter": "python",
   "pygments_lexer": "ipython3",
   "version": "3.11.5"
  }
 },
 "nbformat": 4,
 "nbformat_minor": 2
}
